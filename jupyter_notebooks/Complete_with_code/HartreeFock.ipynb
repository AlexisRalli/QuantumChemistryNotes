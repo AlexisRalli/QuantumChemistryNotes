{
 "cells": [
  {
   "cell_type": "code",
   "execution_count": 23,
   "metadata": {},
   "outputs": [],
   "source": [
    "import numpy as np"
   ]
  },
  {
   "cell_type": "markdown",
   "metadata": {},
   "source": [
    "Specify XYZ of molecule"
   ]
  },
  {
   "cell_type": "code",
   "execution_count": 3,
   "metadata": {},
   "outputs": [],
   "source": [
    "HeH_xyz = [\n",
    "['He', (0, 0, 0)],\n",
    "['H', (0, 0, 1.4632)]\n",
    "]"
   ]
  },
  {
   "cell_type": "code",
   "execution_count": 6,
   "metadata": {},
   "outputs": [],
   "source": [
    "N_atoms = len(HeH_xyz)\n",
    "atom_types = [atm[0] for atm in HeH_xyz]\n",
    "atom_coord = [atm[1:] for atm in HeH_xyz]"
   ]
  },
  {
   "cell_type": "markdown",
   "metadata": {},
   "source": [
    "## Specify Basis set"
   ]
  },
  {
   "cell_type": "markdown",
   "metadata": {},
   "source": [
    "- click link below to find basis sets\n",
    "- select JASON output!\n",
    "\n",
    "https://www.basissetexchange.org/"
   ]
  },
  {
   "cell_type": "markdown",
   "metadata": {},
   "source": [
    "https://chem.libretexts.org/Bookshelves/Physical_and_Theoretical_Chemistry_Textbook_Maps/Book%3A_Quantum_Mechanics__in_Chemistry_(Simons_and_Nichols)/18%3A_Multiconfiguration_Wavefunctions/18.04%3A_Atomic_Orbital_Basis_Sets"
   ]
  },
  {
   "cell_type": "code",
   "execution_count": 16,
   "metadata": {},
   "outputs": [],
   "source": [
    "basis_He_H = {\n",
    "    \"molssi_bse_schema\": {\n",
    "        \"schema_type\": \"complete\",\n",
    "        \"schema_version\": \"0.1\"\n",
    "    },\n",
    "    \"revision_description\": \"Data from Gaussian09\",\n",
    "    \"revision_date\": \"2018-06-19\",\n",
    "    \"elements\": {\n",
    "        \"1\": {\n",
    "            \"electron_shells\": [\n",
    "                {\n",
    "                    \"function_type\": \"gto\",\n",
    "                    \"region\": \"\",\n",
    "                    \"angular_momentum\": [\n",
    "                        0\n",
    "                    ],\n",
    "                    \"exponents\": [\n",
    "                        \"0.3425250914E+01\",\n",
    "                        \"0.6239137298E+00\",\n",
    "                        \"0.1688554040E+00\"\n",
    "                    ],\n",
    "                    \"coefficients\": [\n",
    "                        [\n",
    "                            \"0.1543289673E+00\",\n",
    "                            \"0.5353281423E+00\",\n",
    "                            \"0.4446345422E+00\"\n",
    "                        ]\n",
    "                    ]\n",
    "                }\n",
    "            ],\n",
    "            \"references\": [\n",
    "                {\n",
    "                    \"reference_description\": \"STO-3G Minimal Basis (3 functions/AO)\",\n",
    "                    \"reference_keys\": [\n",
    "                        \"hehre1969a\"\n",
    "                    ]\n",
    "                }\n",
    "            ]\n",
    "        },\n",
    "        \"2\": {\n",
    "            \"electron_shells\": [\n",
    "                {\n",
    "                    \"function_type\": \"gto\",\n",
    "                    \"region\": \"\",\n",
    "                    \"angular_momentum\": [\n",
    "                        0\n",
    "                    ],\n",
    "                    \"exponents\": [\n",
    "                        \"0.6362421394E+01\",\n",
    "                        \"0.1158922999E+01\",\n",
    "                        \"0.3136497915E+00\"\n",
    "                    ],\n",
    "                    \"coefficients\": [\n",
    "                        [\n",
    "                            \"0.1543289673E+00\",\n",
    "                            \"0.5353281423E+00\",\n",
    "                            \"0.4446345422E+00\"\n",
    "                        ]\n",
    "                    ]\n",
    "                }\n",
    "            ],\n",
    "            \"references\": [\n",
    "                {\n",
    "                    \"reference_description\": \"STO-3G Minimal Basis (3 functions/AO)\",\n",
    "                    \"reference_keys\": [\n",
    "                        \"hehre1969a\",\n",
    "                        \"hehre1970a\"\n",
    "                    ]\n",
    "                }\n",
    "            ]\n",
    "        }\n",
    "    },\n",
    "    \"version\": \"1\",\n",
    "    \"function_types\": [\n",
    "        \"gto\",\n",
    "        \"gto_spherical\"\n",
    "    ],\n",
    "    \"names\": [\n",
    "        \"STO-3G\"\n",
    "    ],\n",
    "    \"tags\": [],\n",
    "    \"family\": \"sto\",\n",
    "    \"description\": \"STO-3G Minimal Basis (3 functions/AO)\",\n",
    "    \"role\": \"orbital\",\n",
    "    \"auxiliaries\": {},\n",
    "    \"name\": \"STO-3G\"\n",
    "}\n"
   ]
  },
  {
   "cell_type": "code",
   "execution_count": 19,
   "metadata": {},
   "outputs": [],
   "source": [
    "H_basis = basis_He_H['elements']['1']\n",
    "He_basis = basis_He_H['elements']['2']"
   ]
  },
  {
   "cell_type": "code",
   "execution_count": 20,
   "metadata": {},
   "outputs": [
    {
     "data": {
      "text/plain": [
       "{'electron_shells': [{'function_type': 'gto',\n",
       "   'region': '',\n",
       "   'angular_momentum': [0],\n",
       "   'exponents': ['0.3425250914E+01', '0.6239137298E+00', '0.1688554040E+00'],\n",
       "   'coefficients': [['0.1543289673E+00',\n",
       "     '0.5353281423E+00',\n",
       "     '0.4446345422E+00']]}],\n",
       " 'references': [{'reference_description': 'STO-3G Minimal Basis (3 functions/AO)',\n",
       "   'reference_keys': ['hehre1969a']}]}"
      ]
     },
     "execution_count": 20,
     "metadata": {},
     "output_type": "execute_result"
    }
   ],
   "source": [
    "H_basis"
   ]
  },
  {
   "cell_type": "code",
   "execution_count": 30,
   "metadata": {},
   "outputs": [
    {
     "data": {
      "text/plain": [
       "['0.1543289673E+00', '0.5353281423E+00', '0.4446345422E+00']"
      ]
     },
     "execution_count": 30,
     "metadata": {},
     "output_type": "execute_result"
    }
   ],
   "source": []
  },
  {
   "cell_type": "code",
   "execution_count": 38,
   "metadata": {},
   "outputs": [],
   "source": [
    "# STO-nG (n = number of Gaussian functions used to form contracted [via linear combination] Gaussian orbital)\n",
    "STOnG=3"
   ]
  },
  {
   "cell_type": "code",
   "execution_count": 39,
   "metadata": {},
   "outputs": [
    {
     "data": {
      "text/plain": [
       "array([[0.15432897, 0.53532814, 0.44463454],\n",
       "       [0.15432897, 0.53532814, 0.44463454]])"
      ]
     },
     "execution_count": 39,
     "metadata": {},
     "output_type": "execute_result"
    }
   ],
   "source": [
    "# Gaussian orbital contraction coefficients\n",
    "D = np.array( \n",
    "[\n",
    "    H_basis['electron_shells'][0]['coefficients'][0],\n",
    "    He_basis['electron_shells'][0]['coefficients'][0]\n",
    "], dtype=float\n",
    ")\n",
    "D"
   ]
  },
  {
   "cell_type": "code",
   "execution_count": 40,
   "metadata": {},
   "outputs": [
    {
     "data": {
      "text/plain": [
       "array([[3.42525091, 0.62391373, 0.1688554 ],\n",
       "       [6.36242139, 1.158923  , 0.31364979]])"
      ]
     },
     "execution_count": 40,
     "metadata": {},
     "output_type": "execute_result"
    }
   ],
   "source": [
    "alpha = np.array( # Gaussian orbital exponents \n",
    "[\n",
    "    H_basis['electron_shells'][0]['exponents'],\n",
    "    He_basis['electron_shells'][0]['exponents']\n",
    "], dtype=float\n",
    ")\n",
    "alpha"
   ]
  },
  {
   "cell_type": "code",
   "execution_count": null,
   "metadata": {},
   "outputs": [],
   "source": []
  },
  {
   "cell_type": "code",
   "execution_count": 149,
   "metadata": {},
   "outputs": [],
   "source": [
    "## important constant things\n",
    "\n",
    "max_quantum_number_dict = {'H':1, 'He':1, 'Li':2, 'Be':2, 'C':2} ## etc for all periodic table (max shell number)\n",
    "N_electrons = 2\n",
    "\n",
    "atomic_charges_dict = {\n",
    "    'H':1,\n",
    "    'He':2,\n",
    "    'Li':3,\n",
    "    'Be':4,\n",
    "    'B':5\n",
    "} ## etc for all periodic table (proton number)"
   ]
  },
  {
   "cell_type": "code",
   "execution_count": 150,
   "metadata": {},
   "outputs": [
    {
     "data": {
      "text/plain": [
       "2"
      ]
     },
     "execution_count": 150,
     "metadata": {},
     "output_type": "execute_result"
    }
   ],
   "source": [
    "# Basis set size\n",
    "\n",
    "Basis_set_size = sum(max_quantum_number_dict[atom_str] for atom_str in atom_types)\n",
    "Basis_set_size"
   ]
  },
  {
   "cell_type": "code",
   "execution_count": null,
   "metadata": {},
   "outputs": [],
   "source": []
  },
  {
   "cell_type": "code",
   "execution_count": null,
   "metadata": {},
   "outputs": [],
   "source": []
  },
  {
   "cell_type": "markdown",
   "metadata": {},
   "source": [
    "**IMPORTANT: we are only performing integrals for 1s-type primitive Gaussian functions here**\n",
    "(different approach required for other terms... But overall idea is very similar!)\n",
    "\n",
    "An un-normalized 1s primitive Gaussian centred at $R_{A}$ is:\n",
    "\n",
    "$$g_{1s}(r-R_{A}) = e^{-\\alpha |r-R_{A}|^{2}}$$\n",
    "\n",
    "- Using $\\alpha, \\beta$ for the orbital exponents functions for the functions centered at $R_{A}$ and $R_{B}$ \n",
    "- A product of two $1s$ Gaussians is proportional to a SINGLE $1s$ orbital on a different (third) centre $R_{p}$:\n",
    "\n",
    "$$ \\bigg(g_{1s}(r-R_{A})  \\bigg) \\bigg( g_{1s}(r-R_{B}) \\bigg) = \\bigg( e^{-\\alpha |r-R_{A}|^{2}}\\bigg) \\bigg(e^{-\\beta |r-R_{B}|^{2}}\\bigg) = K g_{1s}(r-R_{P})$$\n"
   ]
  },
  {
   "cell_type": "markdown",
   "metadata": {},
   "source": [
    "The constant of proportionality $K$ is given by:\n",
    "\n",
    "$$K = e^{-\\frac{\\alpha \\beta}{(\\alpha + \\beta)} |R_{A}-R_{B}|^{2}}$$\n",
    "\n",
    "The new centre is $R_{P}$ is:\n",
    "\n",
    "$$R_{P} = \\frac{\\alpha R_{A} + \\beta R_{B}}{(\\alpha + \\beta)}$$\n",
    "\n",
    "The exponent of the new orbital is:\n",
    "\n",
    "$$p = \\alpha + \\beta$$"
   ]
  },
  {
   "cell_type": "code",
   "execution_count": 114,
   "metadata": {},
   "outputs": [],
   "source": [
    "def Product_of_two_Gaussians(GaussA, GaussB):\n",
    "    alpha, R_A = GaussA\n",
    "    beta, R_B = GaussB\n",
    "    \n",
    "    R_A = np.asarray(R_A).flatten()\n",
    "    R_B = np.asarray(R_B).flatten()\n",
    "    \n",
    "    # new exponent\n",
    "    p = alpha + beta\n",
    "    \n",
    "    sq_diff_between_two_centres = np.linalg.norm(R_A-R_B)**2 # abs(R_A-R_B)**2 \n",
    "    \n",
    "    Normalization = ( (4*alpha*beta) /(np.pi**2) )** 0.75 \n",
    "    \n",
    "    K = Normalization * np.exp((-alpha*beta/p)*sq_diff_between_two_centres)\n",
    "    \n",
    "    Rp = (alpha*R_A + beta*R_B)/p\n",
    "    \n",
    "    return p, sq_diff_between_two_centres, K, Rp"
   ]
  },
  {
   "cell_type": "code",
   "execution_count": null,
   "metadata": {},
   "outputs": [],
   "source": []
  },
  {
   "cell_type": "code",
   "execution_count": 46,
   "metadata": {},
   "outputs": [],
   "source": [
    "def Overlap_integral(gaussA, gaussB):\n",
    "    \n",
    "    #integral of  (A|B) = ∫ dr1 g_1s(r_1 - R_{A}) g_1s(r_1 - R_{B})\n",
    "    \n",
    "    # equation (A8) pg 412 Szabo\n",
    "    \n",
    "    p, diff, K, Rp = Product_of_two_Gaussians(gaussA, gaussB)\n",
    "    prefactor = (np.pi/p)**1.5\n",
    "    return prefactor*K"
   ]
  },
  {
   "cell_type": "code",
   "execution_count": 47,
   "metadata": {},
   "outputs": [],
   "source": [
    "def Kinetic_integral(gaussA, gaussB):\n",
    "    \n",
    "    #integral of  (A| -0.5 ∇^2 |B) = ∫ dr1 g_1s(r_1 - R_{A}) (-0.5 ∇^2)   g_1s(r_1 - R_{B})\n",
    "    \n",
    "    # equation (A11) pg 412 Szabo\n",
    "    \n",
    "    p, sq_diff_between_two_centres, K, Rp = Product_of_two_Gaussians(gaussA, gaussB)\n",
    "    prefactor = (np.pi/p)**1.5\n",
    "    \n",
    "    alpha, R_A = gaussA\n",
    "    beta, R_B = gaussB\n",
    "    \n",
    "    reduced_exponent = alpha*beta/p\n",
    "    \n",
    "    return reduced_exponent * ( 3- (2*reduced_exponent * sq_diff_between_two_centres) ) * prefactor * K"
   ]
  },
  {
   "cell_type": "code",
   "execution_count": null,
   "metadata": {},
   "outputs": [],
   "source": []
  },
  {
   "cell_type": "code",
   "execution_count": 87,
   "metadata": {},
   "outputs": [],
   "source": [
    "from scipy.special import erf\n",
    "def F_zero_func(t):\n",
    "    # pg 415 equation A32\n",
    "    \n",
    "    if t==0:\n",
    "        return 1\n",
    "    else:\n",
    "        return np.sqrt(0.5*np.pi/t)* erf(t**0.5)\n",
    "    \n",
    "\n",
    "def Potential_integral(gaussA, gaussB, atomic_charge, atom_position):\n",
    "    \n",
    "    # nuclear attraction integral for 1s Gaussians\n",
    "    \n",
    "    # integral of  (A| -Z_{c}/r_{1C} |B) = ∫ dr1 g_1s(r_1 - R_{A}) (-Z_{c}/|r_{1} -R_{C}|)   g_1s(r_1 - R_{B})\n",
    "    \n",
    "    # equation (A16) pg 413 Szabo\n",
    "    # final form is A33 pg 415!\n",
    "    \n",
    "    p, sq_diff_between_two_centres, K, Rp = Product_of_two_Gaussians(gaussA, gaussB)\n",
    "    \n",
    "    Rc = atom_position  # Position of atom C\n",
    "    Zc = atomic_charge # charge of atom C\n",
    "    \n",
    "    \n",
    "    int_val = (-2*np.pi*Zc/p) * K * F_zero_func(p*np.linalg.norm(Rp - Rc)**2)\n",
    "    \n",
    "    return int_val"
   ]
  },
  {
   "cell_type": "code",
   "execution_count": null,
   "metadata": {},
   "outputs": [],
   "source": []
  },
  {
   "cell_type": "code",
   "execution_count": 113,
   "metadata": {},
   "outputs": [],
   "source": [
    "def Product_of_four_Gaussians(GaussA, GaussB, GaussC, GaussD):\n",
    "    \n",
    "    # equation (A34) pg 415 Szabo\n",
    "    \n",
    "    #integral of  (AB|CD) = ∫ dr1 ∫ dr2 g_1s(r_1 - R_{A}) g_1s(r_1 - R_{B}) [r_{12}]^{-1}  g_1s(r_2 - R_{C}) g_1s(r_2 - R_{D})\n",
    "    \n",
    "        # note intgral over dr1 and dr2 with r_1 on LHS and r_2 on RHS\n",
    "        # also see 1/r_{12} term!\n",
    "    \n",
    "    # final equation (A41) pg 416 Szabo\n",
    "    \n",
    "    p, sq_diff_between_two_centres_AB, K_AB, Rp = Product_of_two_Gaussians(GaussA, GaussB)\n",
    "    q, sq_diff_between_two_centres_CD, K_CD, Rq = Product_of_two_Gaussians(GaussA, GaussB)\n",
    "\n",
    "\n",
    "    multi_prefactor = (2*(np.pi**2.5)) / np.sqrt(p*q*(p+q))\n",
    "    \n",
    "    return multi_prefactor * K_AB * K_CD * F_zero_func((p*q*(p+q))*np.linalg.norm(Rp - Rq)**2)"
   ]
  },
  {
   "cell_type": "code",
   "execution_count": null,
   "metadata": {},
   "outputs": [],
   "source": []
  },
  {
   "cell_type": "markdown",
   "metadata": {},
   "source": [
    "# compute integral of AO basis!"
   ]
  },
  {
   "cell_type": "markdown",
   "metadata": {},
   "source": [
    "- iterate through each of the atoms\n",
    "- on each atom iterate through its orbitals\n",
    "- for each orbital iterate through its three Gaussians (triple iteration)\n",
    "\n",
    "(in this simple example we could just sum over the three Gaussians on each atom directly. This is due to each atom only having $1$ atomic orbital)\n",
    "\n",
    "HOWEVER doing this explicitly will allow us to extend this program to solve more complicated molecules!"
   ]
  },
  {
   "cell_type": "code",
   "execution_count": null,
   "metadata": {},
   "outputs": [],
   "source": []
  },
  {
   "cell_type": "code",
   "execution_count": 115,
   "metadata": {},
   "outputs": [],
   "source": [
    "N_atoms = len(HeH_xyz)\n",
    "atom_types = [atm[0] for atm in HeH_xyz]\n",
    "atom_coord = [atm[1:] for atm in HeH_xyz]"
   ]
  },
  {
   "cell_type": "code",
   "execution_count": 175,
   "metadata": {},
   "outputs": [],
   "source": [
    "# Initialize matrices\n",
    "\n",
    "S = np.zeros((Basis_set_size, Basis_set_size))\n",
    "T = np.zeros((Basis_set_size, Basis_set_size))\n",
    "V = np.zeros((Basis_set_size, Basis_set_size))\n",
    "multi_electron_tensor = np.zeros((Basis_set_size, Basis_set_size, Basis_set_size, Basis_set_size))\n",
    "\n",
    "for atom_ind_A, atom_str_A in enumerate(atom_types): # iterate atoms\n",
    "    \n",
    "    # get charge and centre of atom\n",
    "    Z_A = atomic_charges_dict[atom_str_A]\n",
    "    R_A = atom_coord[atom_ind_A]\n",
    "    \n",
    "    # iterate through quantum numbers\n",
    "    \n",
    "    for n_shell_A in range(max_quantum_number_dict[atom_str_A]):\n",
    "        \n",
    "        \n",
    "        # for each quantum number\n",
    "        # get gaussian coefficients\n",
    "        d_vec_shell_n = D[n_shell_A]\n",
    "        \n",
    "        # then scale exponents by zeta if necessary (pg 158 Szabo)\n",
    "        # zeta would be stored in a dict\n",
    "        zeta = 1\n",
    "        alpha_vec_n_shell_A = alpha[n_shell_A]*zeta**2\n",
    "        \n",
    "        \n",
    "        # iterate over the contraction coefficients\n",
    "        for p in range(STOnG):\n",
    "            \n",
    "            # iterate through atoms once more\n",
    "            for atom_ind_B, atom_str_B in enumerate(atom_types): # iterate atoms\n",
    "                Z_B = atomic_charges_dict[atom_str_B]\n",
    "                R_B = atom_coord[atom_ind_B]\n",
    "                \n",
    "                for n_shell_B in range(max_quantum_number_dict[atom_str_B]):\n",
    "                    d_vec_shell_n = D[n_shell_B]\n",
    "        \n",
    "                    zeta = 1\n",
    "                    alpha_vec_n_shell_B = alpha[n_shell_B]*zeta**2\n",
    "                \n",
    "                    for q in range(STOnG):\n",
    "                        a = (atom_ind_A+1)*(n_shell_A+1)-1 # due to python indexing at zero\n",
    "                        b = (atom_ind_B+1)*(n_shell_B+1)-1 # aka not 0s orbital, but 1s!\n",
    "                        \n",
    "                        \n",
    "                        gaussA = (alpha_vec_n_shell_A[p], R_A)\n",
    "                        gaussB = (alpha_vec_n_shell_A[q], R_B)\n",
    "                        # get AO overlap\n",
    "                        S[a,b] += D[n_shell_A, p] * D[n_shell_B, q]  * Overlap_integral(gaussA, gaussB)\n",
    "                        \n",
    "                        # kinetic ints\n",
    "                        T[a,b] += D[n_shell_A, p] * D[n_shell_B, q]  * Kinetic_integral(gaussA, gaussB) \n",
    "                        \n",
    "                        # Potential ints\n",
    "                        for select_ind, selected_atom in enumerate(atom_types):\n",
    "                            selected_atom_coords = atom_coord[select_ind]\n",
    "                            atm_charge = atomic_charges_dict[selected_atom]\n",
    "                            V[a,b] +=D[n_shell_A, p] * D[n_shell_B, q]  * Potential_integral(gaussA, gaussB,\n",
    "                                                                                             atm_charge, selected_atom_coords)\n",
    "                            \n",
    "                        \n",
    "                        \n",
    "                        ## two more iterations over atoms for multi-electron-tensor (2e- or 4 body integrals)\n",
    "                        for atom_ind_C, atom_str_C in enumerate(atom_types): # iterate atoms\n",
    "                            Z_C = atomic_charges_dict[atom_str_C]\n",
    "                            R_C = atom_coord[atom_ind_C]\n",
    "\n",
    "                            for n_shell_C in range(max_quantum_number_dict[atom_str_C]):\n",
    "                                d_vec_shell_n = D[atom_ind_C]\n",
    "\n",
    "                                zeta = 1\n",
    "                                alpha_vec_n_shell_C = alpha[n_shell_C]*zeta**2\n",
    "\n",
    "                                for r in range(STOnG):\n",
    "                                    \n",
    "                                    for atom_ind_D, atom_str_D in enumerate(atom_types): # iterate atoms\n",
    "                                        Z_D = atomic_charges_dict[atom_str_D]\n",
    "                                        R_D = atom_coord[atom_ind_D]\n",
    "\n",
    "                                        for n_shell_D in range(max_quantum_number_dict[atom_str_D]):\n",
    "                                            d_vec_shell_n = D[n_shell_D]\n",
    "\n",
    "                                            zeta = 1\n",
    "                                            alpha_vec_n_shell_C = alpha[n_shell_C]*zeta**2\n",
    "\n",
    "                                            for s in range(STOnG):\n",
    "                                                c = (atom_ind_C+1)*(n_shell_C+1)-1 # due to python indexing at zero\n",
    "                                                d = (atom_ind_D+1)*(n_shell_D+1)-1\n",
    "                                                \n",
    "                                                gaussC = (alpha_vec_n_shell_A[r], R_C)\n",
    "                                                gaussD = (alpha_vec_n_shell_A[s], R_D)\n",
    "                                                \n",
    "                                                multi_electron_tensor[a,b,c,d]+= D[n_shell_A, p] * D[n_shell_B, q] * \\\n",
    "                                                                                D[n_shell_C, r] * D[n_shell_D, s] * \\\n",
    "                                                                                Product_of_four_Gaussians(gaussA, gaussB,\n",
    "                                                                                                         gaussC, gaussD)"
   ]
  },
  {
   "cell_type": "code",
   "execution_count": null,
   "metadata": {},
   "outputs": [],
   "source": []
  },
  {
   "cell_type": "code",
   "execution_count": 176,
   "metadata": {},
   "outputs": [],
   "source": [
    "H_core = T + V"
   ]
  },
  {
   "cell_type": "code",
   "execution_count": null,
   "metadata": {},
   "outputs": [],
   "source": []
  },
  {
   "cell_type": "code",
   "execution_count": null,
   "metadata": {},
   "outputs": [],
   "source": []
  },
  {
   "cell_type": "markdown",
   "metadata": {},
   "source": [
    "# Get orthogonal basis"
   ]
  },
  {
   "cell_type": "code",
   "execution_count": 177,
   "metadata": {},
   "outputs": [
    {
     "data": {
      "text/plain": [
       "array([[ 1.221177  , -0.43970998],\n",
       "       [-0.43970998,  1.221177  ]])"
      ]
     },
     "execution_count": 177,
     "metadata": {},
     "output_type": "execute_result"
    }
   ],
   "source": [
    "## symmetric orthogonalization basis (Szabo pg 144)\n",
    "\n",
    "eig_vals, U = np.linalg.eig(S)\n",
    "\n",
    "diag_S = U.conj().T @ S @ U\n",
    "diag_S_neg_half = np.diag(np.diag(diag_S)**(-0.5))\n",
    "\n",
    "X = U @ diag_S_neg_half @ U.conj().T\n",
    "X"
   ]
  },
  {
   "cell_type": "code",
   "execution_count": 178,
   "metadata": {},
   "outputs": [
    {
     "data": {
      "text/plain": [
       "True"
      ]
     },
     "execution_count": 178,
     "metadata": {},
     "output_type": "execute_result"
    }
   ],
   "source": [
    "from scipy.linalg import fractional_matrix_power\n",
    "test = fractional_matrix_power(S, -0.5)\n",
    "np.allclose(test, X)"
   ]
  },
  {
   "cell_type": "code",
   "execution_count": null,
   "metadata": {},
   "outputs": [],
   "source": []
  },
  {
   "cell_type": "markdown",
   "metadata": {},
   "source": [
    "# HF alg"
   ]
  },
  {
   "cell_type": "code",
   "execution_count": 179,
   "metadata": {},
   "outputs": [],
   "source": []
  },
  {
   "cell_type": "code",
   "execution_count": 195,
   "metadata": {},
   "outputs": [
    {
     "name": "stdout",
     "output_type": "stream",
     "text": [
      "-1.355199111754323\n",
      "8.25066885448454\n"
     ]
    },
    {
     "data": {
      "text/plain": [
       "array([[ 3.36923624, -2.14785483],\n",
       "       [-2.14785483,  3.36923624]])"
      ]
     },
     "execution_count": 195,
     "metadata": {},
     "output_type": "execute_result"
    }
   ],
   "source": [
    "# intial guess of C\n",
    "P = np.zeros((Basis_set_size, Basis_set_size))\n",
    "\n",
    "\n",
    "threshold=100\n",
    "loop=0\n",
    "while threshold>1e-6:\n",
    "    \n",
    "    # Get Fock matrix\n",
    "    G = np.zeros((Basis_set_size, Basis_set_size))\n",
    "    for i in range(Basis_set_size):\n",
    "        for j in range(Basis_set_size):\n",
    "            for x in range(Basis_set_size):\n",
    "                for y in range(Basis_set_size):\n",
    "                    G[i,j] += P[x,y]* (multi_electron_tensor[i,j,y,x] - 0.5*multi_electron_tensor[i,x,y,j])\n",
    "                    #         ^^^^^^ note depends on P here!!!\n",
    "    \n",
    "    Fock = H_core + G\n",
    "    \n",
    "    # Get fock in ortU.conj().T @ S @ Uho basis\n",
    "    FockPrime = X.conj().T @ Fock @ X\n",
    "    \n",
    "    eig_vals, C_prime = np.linalg.eig(FockPrime)\n",
    "\n",
    "    #  order eig by size\n",
    "    idx = eig_vals.argsort()\n",
    "    eig_vals = eig_vals[idx]\n",
    "    C_prime = C_prime[:, idx]\n",
    "    \n",
    "    # orthogonalize result in AO basis!\n",
    "    C_ortho = X @ C_prime\n",
    "    \n",
    "    # build new density matrix\n",
    "    P, P_old = 2* C_ortho @ C_ortho.conj().T, P\n",
    "    \n",
    "    # calculate threshold\n",
    "    threshold = np.einsum('ij->', (P-P_old)**2)\n",
    "\n",
    "print(eig_vals[0])\n",
    "print(eig_vals[1])\n",
    "P"
   ]
  }
 ],
 "metadata": {
  "kernelspec": {
   "display_name": "Python 3",
   "language": "python",
   "name": "python3"
  },
  "language_info": {
   "codemirror_mode": {
    "name": "ipython",
    "version": 3
   },
   "file_extension": ".py",
   "mimetype": "text/x-python",
   "name": "python",
   "nbconvert_exporter": "python",
   "pygments_lexer": "ipython3",
   "version": "3.8.5"
  }
 },
 "nbformat": 4,
 "nbformat_minor": 4
}
