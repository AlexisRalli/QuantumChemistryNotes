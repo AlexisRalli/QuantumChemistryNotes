{
 "cells": [
  {
   "cell_type": "code",
   "execution_count": 1,
   "metadata": {},
   "outputs": [],
   "source": [
    "import numpy as np\n",
    "import scipy as sp\n",
    "from pyscf import gto, scf, ao2mo"
   ]
  },
  {
   "cell_type": "markdown",
   "metadata": {},
   "source": [
    "# Background"
   ]
  },
  {
   "cell_type": "markdown",
   "metadata": {},
   "source": [
    "Hartree-Fock Self-Consistent Field Theory (HF-SCF) with restricted orbitals and closed-shell systems (RHF) sovles the following pseduo eigenvalue problem:\n",
    "\n",
    "$$FC = S C \\epsilon$$\n",
    "\n",
    "called the Roothan equations.\n",
    "\n",
    "This is soolved self-consistently for orbital coefficient matrix $C$ and orbital energy eigenvalues $\\epsilon$"
   ]
  },
  {
   "cell_type": "markdown",
   "metadata": {},
   "source": [
    "The Fock matrix has elements $F_{\\mu\\nu}$ in the **atomic orbital basis** as :\n",
    "\n",
    "$$F_{\\mu\\nu} = H_{\\mu\\nu} + 2 (\\mu\\nu|\\lambda \\sigma)D_{\\lambda \\sigma} -  (\\mu\\lambda|\\nu \\sigma)D_{\\lambda \\sigma}$$\n",
    "\n",
    "where\n",
    "\n",
    "$$D_{\\lambda \\sigma} = C_{\\sigma i} C_{\\lambda i}$$\n",
    "\n",
    "Note $C$ is an $(N \\times M)$ matrix, where $N$ is no. of **atomic basis** fucntions and $M$ the number of molecular orbitals"
   ]
  },
  {
   "cell_type": "markdown",
   "metadata": {},
   "source": [
    "Note too that it is common to write Coulomb and Exchange matrices J and K, with elements (here square brackets denote their dependents on the density matrix!):\n",
    "\n",
    "$$J[D_{\\lambda \\sigma}]_{\\mu\\nu} = (\\mu\\nu|\\lambda \\sigma)D_{\\lambda \\sigma}$$\n",
    "\n",
    "$$K[D_{\\lambda \\sigma}]_{\\mu\\nu} = (\\mu\\lambda|\\nu \\sigma)D_{\\lambda \\sigma}$$\n",
    "\n",
    "The Fock matrix can therefore be found by:\n",
    "\n",
    "$$F = H + 2J -  K$$"
   ]
  },
  {
   "cell_type": "code",
   "execution_count": null,
   "metadata": {},
   "outputs": [],
   "source": []
  },
  {
   "cell_type": "markdown",
   "metadata": {},
   "source": [
    "# Manual Calculation!"
   ]
  },
  {
   "cell_type": "markdown",
   "metadata": {},
   "source": [
    "### 1. Define molecule in PySCF"
   ]
  },
  {
   "cell_type": "code",
   "execution_count": 2,
   "metadata": {},
   "outputs": [],
   "source": [
    "geometry = \"\"\"\n",
    "O\n",
    "H 1 1.1\n",
    "H 1 1.1 2 104\n",
    "\"\"\"\n",
    "basis =  'cc-pvdz'"
   ]
  },
  {
   "cell_type": "code",
   "execution_count": 3,
   "metadata": {},
   "outputs": [],
   "source": [
    "# geometry = \"\"\"\n",
    "# H 0 0 0 \n",
    "# H 0 0 0.74\n",
    "# \"\"\"\n",
    "# basis =  'STO-3G'"
   ]
  },
  {
   "cell_type": "code",
   "execution_count": 4,
   "metadata": {},
   "outputs": [
    {
     "data": {
      "text/plain": [
       "<pyscf.gto.mole.Mole at 0x7f82e6ad5d30>"
      ]
     },
     "execution_count": 4,
     "metadata": {},
     "output_type": "execute_result"
    }
   ],
   "source": [
    "\n",
    "\n",
    "full_system_mol = gto.Mole(atom= geometry,\n",
    "                      basis=basis,\n",
    "                       charge=0,\n",
    "                       #spin=0,\n",
    "                      )\n",
    "full_system_mol.build()"
   ]
  },
  {
   "cell_type": "code",
   "execution_count": null,
   "metadata": {},
   "outputs": [],
   "source": []
  },
  {
   "cell_type": "markdown",
   "metadata": {},
   "source": [
    "### 2. Compute static 1e- and 2e- integrals with PySCF"
   ]
  },
  {
   "cell_type": "code",
   "execution_count": 5,
   "metadata": {},
   "outputs": [],
   "source": [
    "S = full_system_mol.intor('int1e_ovlp') # 1e- electron overlap <i|j>\n",
    "\n",
    "eri_ao = full_system_mol.intor('int2e') # 2e- electron repulsion integrals in AO basis <ij|kl>"
   ]
  },
  {
   "cell_type": "code",
   "execution_count": 6,
   "metadata": {},
   "outputs": [
    {
     "name": "stdout",
     "output_type": "stream",
     "text": [
      "Number of occupied orbitals:   5\n",
      "Number of basis functions:     24\n"
     ]
    }
   ],
   "source": [
    "n_docc = full_system_mol.nelectron // 2 # number of double occupied orbitals\n",
    "n_bas_ft = full_system_mol.nao\n",
    "\n",
    "print(f'Number of occupied orbitals:{n_docc:4.0f}')\n",
    "print(f'Number of basis functions: {n_bas_ft:6.0f}')"
   ]
  },
  {
   "cell_type": "code",
   "execution_count": null,
   "metadata": {},
   "outputs": [],
   "source": []
  },
  {
   "cell_type": "markdown",
   "metadata": {},
   "source": [
    "### 3. Build Core Hamiltonian"
   ]
  },
  {
   "cell_type": "code",
   "execution_count": 7,
   "metadata": {},
   "outputs": [],
   "source": [
    "T = full_system_mol.intor('int1e_kin')\n",
    "V = full_system_mol.intor('int1e_nuc')\n",
    "\n",
    "H_core = T+V"
   ]
  },
  {
   "cell_type": "code",
   "execution_count": 8,
   "metadata": {},
   "outputs": [
    {
     "data": {
      "text/plain": [
       "True"
      ]
     },
     "execution_count": 8,
     "metadata": {},
     "output_type": "execute_result"
    }
   ],
   "source": [
    "# check H_core calculated is the SAME!\n",
    "np.allclose(H_core, scf.hf.get_hcore(full_system_mol))"
   ]
  },
  {
   "cell_type": "markdown",
   "metadata": {},
   "source": [
    "### 4. Check roothan and S matrix"
   ]
  },
  {
   "cell_type": "markdown",
   "metadata": {},
   "source": [
    "We can solve:\n",
    "\n",
    "$$FC = S C \\epsilon$$\n",
    "\n",
    "if $S$ is the identity matrix... however:"
   ]
  },
  {
   "cell_type": "code",
   "execution_count": 9,
   "metadata": {},
   "outputs": [
    {
     "name": "stdout",
     "output_type": "stream",
     "text": [
      "is S the identity matrix?: False\n",
      "\n",
      "AO basis is not orthonormal\n"
     ]
    }
   ],
   "source": [
    "test = np.allclose(S, np.eye(S.shape[0]))\n",
    "print(f'is S the identity matrix?: {test}')\n",
    "if test is False:\n",
    "    print()\n",
    "    print('AO basis is not orthonormal')"
   ]
  },
  {
   "cell_type": "markdown",
   "metadata": {},
   "source": [
    "Overall we cannot ignore the AO overlap matrix... $F$ cannot simply be diagonlized to solve for the orbital coefficent matrix!"
   ]
  },
  {
   "cell_type": "code",
   "execution_count": null,
   "metadata": {},
   "outputs": [],
   "source": []
  },
  {
   "cell_type": "markdown",
   "metadata": {},
   "source": [
    "LUCKILY: we can overcome this issue, by **transforming** the AO basis so that all the basis functions are orthonormal!\n",
    "\n",
    "aka we need a transform:\n",
    "\n",
    "$$U^{\\dagger} S U = \\mathcal{I}$$\n",
    "\n",
    "Clearly this makes S diagonal!"
   ]
  },
  {
   "cell_type": "code",
   "execution_count": null,
   "metadata": {},
   "outputs": [],
   "source": []
  },
  {
   "cell_type": "markdown",
   "metadata": {},
   "source": [
    "But how do we do this? (pg 143-144 Szabo and https://www.youtube.com/watch?v=2N104Nf-_L4)\n",
    "\n",
    "1. Symmetric orthogonalization\n",
    "    - uses the symmetric inverse square root of the overlap matrix\n",
    "    - $ U = S^{-\\frac{1}{2}}$\n",
    "\n",
    "as clearly:\n",
    "\n",
    "$$U^{\\dagger} S U = S^{-\\frac{1}{2}} S S^{-\\frac{1}{2}}  = S^{-\\frac{1}{2}} S^{+\\frac{1}{2}} = \\mathcal{I}$$\n",
    "\n",
    "**IMPORTANT numerical problems can occur if the overlap matrix has small eigenvalues, which may occur for large systems or for systems where diffuse basis sets are used**\n",
    "\n",
    "2. canonical orthogonalization\n",
    "    - uses the symmetric inverse square root of the overlap matrix and additional unitary $V$\n",
    "    - V is the unitary we use to diagonlize the matrix $S$\n",
    "        - we then truncate according to the eignvalues of $V$... for small terms there will be numerical problems so they are REMOVED (TRUNCATED)\n",
    "    - $ U = V S^{-\\frac{1}{2}}$\n",
    "    \n",
    "This numerical problem may be avoided by using canonical orthogonalization, in which an asymmetric inverse square root of the overlap matrix is formed, with numerical stability enhanced by the elimination of eigenvectors corresponding to very small eigenvalues. As a few combinations of AO basis functions may be discarded, the number of canonical-orthogonalized OSOs and MOs may be slightly smaller than the number of AOs.\n",
    "\n",
    "\n",
    "\n",
    "3. Cholesky decomposition\n",
    "\n",
    "When the basis set is too overcomplete, the eigendecomposition of the overlap matrix is no longer numerically stable. In this case the partial Cholesky decomposition can be used to pick a subset of basis functions that span a sufficiently complete set, see [Lehtola:2019:241102] and [Lehtola:2020:032504]. This subset can then be orthonormalized as usual; the rest of the basis functions are hidden from the calculation. The Cholesky approach allows reaching accurate energies even in the presence of significant linear dependencies [Lehtola:2020:04224].\n",
    "\n"
   ]
  },
  {
   "cell_type": "code",
   "execution_count": null,
   "metadata": {},
   "outputs": [],
   "source": []
  },
  {
   "cell_type": "markdown",
   "metadata": {},
   "source": [
    "### 5. Let us use Symmetrix orthogonalization"
   ]
  },
  {
   "cell_type": "code",
   "execution_count": 10,
   "metadata": {},
   "outputs": [
    {
     "name": "stdout",
     "output_type": "stream",
     "text": [
      "is S_prime orthonormal: True\n"
     ]
    }
   ],
   "source": [
    "U = sp.linalg.fractional_matrix_power(S, -0.5)\n",
    "\n",
    "### check orthonormal condition\n",
    "\n",
    "S_prime = U @ S @ U\n",
    "print(f'is S_prime orthonormal: {np.allclose(S_prime, np.eye(S_prime.shape[0]))}')"
   ]
  },
  {
   "cell_type": "markdown",
   "metadata": {},
   "source": [
    "This is good, as we can now think about diagonalization!\n",
    "\n",
    "\n",
    "The drawback of this scheme is that we would now have to either re-compute the ERI and core Hamiltonian tensors in the newly orthogonal AO basis, or transform them using our $U$ matrix (both would be overly costly, especially transforming the ERI)"
   ]
  },
  {
   "cell_type": "code",
   "execution_count": null,
   "metadata": {},
   "outputs": [],
   "source": []
  },
  {
   "cell_type": "markdown",
   "metadata": {},
   "source": [
    "However we can directly subsitute $C = U C_{prime}$ into our Roothan equations!:\n",
    "\n",
    "$$FC = S C \\epsilon$$\n",
    "$$F U C_{prime} = S U C_{prime} \\epsilon$$\n",
    "\n",
    "now apply $U^{\\dagger}$ on both sides\n",
    "\n",
    "$$(U^{\\dagger}F U) C_{prime} = (U^{\\dagger} S U) C_{prime} \\epsilon$$\n",
    "$$F_{prime} C_{prime} = \\mathcal{I} C_{prime} \\epsilon$$\n",
    "\n",
    "$$F_{prime} C_{prime} = C_{prime} \\epsilon$$\n",
    "\n",
    "\n",
    "We have a standard eigenvalue equation now!!!\n",
    "\n",
    "We can solve for the transformed orbtial coefficient matrix $C_{prime}$ by diagonalizing the transformed Fock matrix $F_{prime}$...\n",
    "\n",
    "Then simply transform  $C_{prime}$ back to AO basis using  $C = U C_{prime}$  ( as started in the beginning)"
   ]
  },
  {
   "cell_type": "code",
   "execution_count": null,
   "metadata": {},
   "outputs": [],
   "source": []
  },
  {
   "cell_type": "markdown",
   "metadata": {},
   "source": [
    "### 6. But how do we start?\n",
    "\n",
    "In order to find the Fock matrix we need the orbital coefficient matrix $C$, but in order to compute $C$ we need $F$...\n",
    "\n",
    "$$F_{\\mu\\nu} = H_{\\mu\\nu} + 2 (\\mu\\nu|\\lambda \\sigma)C_{\\sigma i} C_{\\lambda i} -  (\\mu\\lambda|\\nu \\sigma)C_{\\sigma i} C_{\\lambda i}$$\n",
    "\n",
    "We don't know $F$ or $C$... to begin we therefore GUESS the Fock matrix to obtain an initial $C$ matrix\n",
    "\n",
    "Often a logical starting point to guessing the Fock matrix, is to start from the only part that doesn't depend on the $C$ matrix (as seen in the eq. above this is the Core Hamitlonian part!)\n",
    "\n",
    "1. start with $F = H_{core}$ (APPROXIMATION)\n",
    "2. Diagonalize transformed Fock matrix $U^{\\dagger}F U)$\n",
    "3. This gives initial C_prime\n",
    "4. transform back to AO basis"
   ]
  },
  {
   "cell_type": "code",
   "execution_count": 11,
   "metadata": {},
   "outputs": [],
   "source": [
    "F_guess = H_core\n",
    "\n",
    "F_prime = U.conj().T @ H_core @ U\n",
    "\n",
    "epsilon, C_prime = np.linalg.eigh(F_prime)\n",
    "\n",
    "# transofrm C_prime back to AO basis\n",
    "C = U @ C_prime\n",
    "\n",
    "# get occupied orbitals\n",
    "C_occ = C[:, :n_docc]\n",
    "\n",
    "# build density matrix from occupied orbitals!\n",
    "D = C_occ @ C_occ.T\n",
    "# D = np.einsum('pi,qi->pq', C_occ, C_occ, optimize=True)"
   ]
  },
  {
   "cell_type": "code",
   "execution_count": null,
   "metadata": {},
   "outputs": [],
   "source": []
  },
  {
   "cell_type": "markdown",
   "metadata": {},
   "source": [
    "### 7. Perform SCF routine\n",
    "\n",
    "1. Build Fock matrix\n",
    "    - build coulomb matrix $J$\n",
    "    - build exchange matrix $K$  \n",
    "    - $F = H_{core} + 2J - K$\n",
    "2. Find RHF energy (Szabo pg 150 (pg 134 has similar eq BUT in MO basis!)\n",
    "\n",
    "$$E_{0} = \\frac{1}{2} \\sum_{\\mu} \\sum_{\\nu} D_{\\mu \\nu} (H_{core} + F_{\\mu \\nu})$$\n",
    "\n",
    "    - check convergence\n",
    "    - if true: Break\n",
    "    - else: go to 3.\n",
    "3. Compute new orbital guess\n",
    "    - Transform F to orthonormal AO basis\n",
    "    - Diagonalize F_prime to give epsilon and C_prime\n",
    "    - transform C_prime back to AO basis\n",
    "    - Get new Density matrix from occupied orbitals of C"
   ]
  },
  {
   "cell_type": "code",
   "execution_count": 12,
   "metadata": {},
   "outputs": [
    {
     "name": "stdout",
     "output_type": "stream",
     "text": [
      "final RHF SCF energy -75.98979522645166\n"
     ]
    }
   ],
   "source": [
    "#alg\n",
    "\n",
    "max_iter = 100\n",
    "\n",
    "HF_energy =0\n",
    "E_previous = 0\n",
    "E_tol = 1e-6\n",
    "\n",
    "for i in range(max_iter+1):\n",
    "    \n",
    "    # Build Fock Matrix\n",
    "    J_mat = np.einsum('mvls,ls -> mv', eri_ao, D, optimize=True)\n",
    "    K_mat = np.einsum('mlvs,ls -> mv', eri_ao, D, optimize=True)\n",
    "    \n",
    "    Fock = H_core + 2*J_mat - K_mat\n",
    "    \n",
    "    ### find RHF energy\n",
    "    HF_energy = np.einsum('pq,pq ->', D, (Fock+H_core), optimize=True) + full_system_mol.energy_nuc()\n",
    "#     HF_energy =np.trace(H_core @ D) + np.trace(Fock @ D) + full_system_mol.energy_nuc()\n",
    "    # (no 0.5 here as included in D mat natively!)\n",
    "    \n",
    "    ### check convergence\n",
    "    if np.abs(HF_energy-E_previous)<E_tol:\n",
    "        break\n",
    "        \n",
    "        \n",
    "    # if not convereged store old result\n",
    "    E_previous = HF_energy\n",
    "    \n",
    "    ## compute new orbital guess\n",
    "    F_prime = U.conj().T @ Fock @ U\n",
    "\n",
    "    epsilon, C_prime = np.linalg.eigh(F_prime)\n",
    "\n",
    "    # transofrm C_prime back to AO basis\n",
    "    C = U @ C_prime\n",
    "\n",
    "    # get occupied orbitals\n",
    "    C_occ = C[:, :n_docc]\n",
    "\n",
    "    # build density matrix from occupied orbitals!\n",
    "#     D = C_occ @ C_occ.T\n",
    "    D = np.einsum('pi,qi->pq', C_occ, C_occ, optimize=True)\n",
    "    \n",
    "    if i==max_iter:\n",
    "        raise ValueError('Maximum number of SCF iterations exceeded')\n",
    "        \n",
    "print(f'final RHF SCF energy {HF_energy}')"
   ]
  },
  {
   "cell_type": "code",
   "execution_count": null,
   "metadata": {},
   "outputs": [],
   "source": []
  },
  {
   "cell_type": "code",
   "execution_count": 13,
   "metadata": {},
   "outputs": [
    {
     "data": {
      "text/plain": [
       "False"
      ]
     },
     "execution_count": 13,
     "metadata": {},
     "output_type": "execute_result"
    }
   ],
   "source": [
    "##### check FC = SCe\n",
    "\n",
    "# Build Fock Matrix\n",
    "J_mat = np.einsum('mvls,ls -> mv', eri_ao, D, optimize=True)\n",
    "K_mat = np.einsum('mlvs,ls -> mv', eri_ao, D, optimize=True)\n",
    "\n",
    "Fock = H_core + 2*J_mat - K_mat\n",
    "\n",
    "np.allclose(Fock@C[:,0],epsilon[0]*(S@C)[:,0])"
   ]
  },
  {
   "cell_type": "code",
   "execution_count": null,
   "metadata": {},
   "outputs": [],
   "source": []
  },
  {
   "cell_type": "markdown",
   "metadata": {},
   "source": [
    "# Compare to PySCF result!"
   ]
  },
  {
   "cell_type": "code",
   "execution_count": 14,
   "metadata": {},
   "outputs": [],
   "source": [
    "full_system_scf = scf.RHF(full_system_mol)\n",
    "full_system_scf.verbose=1\n",
    "full_system_scf.max_memory= 8_000\n",
    "full_system_scf.conv_tol = 1e-6\n",
    "\n",
    "E_HF_Pyscf = full_system_scf.kernel()"
   ]
  },
  {
   "cell_type": "code",
   "execution_count": null,
   "metadata": {},
   "outputs": [],
   "source": []
  },
  {
   "cell_type": "code",
   "execution_count": 15,
   "metadata": {},
   "outputs": [
    {
     "name": "stdout",
     "output_type": "stream",
     "text": [
      "difference in Results:  0.000000558\n"
     ]
    }
   ],
   "source": [
    "print(f'difference in Results: {np.abs(E_HF_Pyscf - HF_energy) : 0.9f}')"
   ]
  },
  {
   "cell_type": "code",
   "execution_count": null,
   "metadata": {},
   "outputs": [],
   "source": []
  },
  {
   "cell_type": "code",
   "execution_count": null,
   "metadata": {},
   "outputs": [],
   "source": []
  },
  {
   "cell_type": "code",
   "execution_count": null,
   "metadata": {},
   "outputs": [],
   "source": []
  },
  {
   "cell_type": "code",
   "execution_count": 16,
   "metadata": {},
   "outputs": [
    {
     "data": {
      "text/plain": [
       "array(-62.8174697)"
      ]
     },
     "execution_count": 16,
     "metadata": {},
     "output_type": "execute_result"
    }
   ],
   "source": [
    "h_ij = np.einsum('mi,vj,mv->ij', C.conj().T, C, H_core, optimize=True)\n",
    "h_ij = C @ C.conj().T @ H_core\n",
    "# h_ij = np.einsum('pm,mv,vq->pq', C, H_core,C, optimize=True)\n",
    "\n",
    "# print(np.sum(np.diag(h_ij)[:n_docc]))\n",
    "O1 = np.einsum('ii->', h_ij[:n_docc, :n_docc], optimize=True)\n",
    "O1"
   ]
  },
  {
   "cell_type": "code",
   "execution_count": 17,
   "metadata": {},
   "outputs": [
    {
     "data": {
      "text/plain": [
       "array(-60.47900108)"
      ]
     },
     "execution_count": 17,
     "metadata": {},
     "output_type": "execute_result"
    }
   ],
   "source": [
    "np.einsum('mv,vm ->', D, H_core, optimize=True)"
   ]
  },
  {
   "cell_type": "code",
   "execution_count": null,
   "metadata": {},
   "outputs": [],
   "source": []
  },
  {
   "cell_type": "code",
   "execution_count": 18,
   "metadata": {},
   "outputs": [],
   "source": [
    "# Note certain properties!"
   ]
  },
  {
   "cell_type": "code",
   "execution_count": 19,
   "metadata": {},
   "outputs": [
    {
     "name": "stdout",
     "output_type": "stream",
     "text": [
      "False\n",
      "False\n",
      "False\n",
      "False\n",
      "False\n",
      "False\n",
      "False\n",
      "False\n",
      "False\n",
      "False\n",
      "False\n",
      "False\n",
      "False\n",
      "False\n",
      "False\n",
      "False\n",
      "False\n",
      "False\n",
      "False\n",
      "False\n",
      "False\n",
      "False\n",
      "False\n",
      "False\n"
     ]
    }
   ],
   "source": [
    "# By definition cannonical HF MOs are eigenfucntions of the Fock operator\n",
    "\n",
    "# Build Fock Matrix in AO basis\n",
    "J_mat = np.einsum('mvls,ls -> mv', eri_ao, D, optimize=True)\n",
    "K_mat = np.einsum('mlvs,ls -> mv', eri_ao, D, optimize=True)\n",
    "Fock = H_core + 2*J_mat - K_mat\n",
    "\n",
    "# convert to MO basis\n",
    "F_MO = C@C.T @ Fock\n",
    "\n",
    "# check hartree-Fock MOs are eigenfunctions of Fock matrix!!!\n",
    "for MO_ind in range(C.shape[1]):\n",
    "    eigenvec_index=MO_ind\n",
    "    print(np.allclose(F_MO @ C[:,eigenvec_index] , C[:,eigenvec_index]*epsilon[eigenvec_index]))"
   ]
  },
  {
   "cell_type": "code",
   "execution_count": null,
   "metadata": {},
   "outputs": [],
   "source": []
  },
  {
   "cell_type": "markdown",
   "metadata": {},
   "source": [
    "# IMPORTANT notes\n",
    "\n",
    "PG 134 and 164 Szabo\n",
    "\n",
    "Remember that HF theroy give use optimized molecular orbitals: $\\{ \\psi_{i} \\}$\n",
    "\n",
    "where:\n",
    "\n",
    "$$\\psi_{i} = \\sum_{\\mu=1}^{K} C_{\\mu i} \\phi_{mu}$$\n",
    "\n",
    "- note the set $\\{ \\phi_{i}  | i = 1, 2 ... K\\}$ are the known basis functions!\n",
    "\n",
    "\n",
    "Hence the columns of $C$ from HF calculation give the molecular orbitals!\n",
    "\n",
    "Now we often write the solution to our problem using Slater determinants - that contain molecular orbitals (NOT atomic orbs)!\n",
    "\n",
    "$$| \\Psi^{HF}> = | \\psi_{1} \\bar{\\psi_{1}} \\: \\: \\psi_{2} \\bar{\\psi_{2}} \\: \\: ... \\: \\: \\psi_{N/2} \\bar{\\psi_{N/2}}>$$\n",
    "\n",
    "Therefore we need to convert to the MO basis!"
   ]
  },
  {
   "cell_type": "code",
   "execution_count": 20,
   "metadata": {},
   "outputs": [
    {
     "name": "stdout",
     "output_type": "stream",
     "text": [
      "double occupancy = 5\n"
     ]
    },
    {
     "data": {
      "text/plain": [
       "(24, 5)"
      ]
     },
     "execution_count": 20,
     "metadata": {},
     "output_type": "execute_result"
    }
   ],
   "source": [
    "print('double occupancy =', n_docc)\n",
    "\n",
    "HF_state = C[:, :n_docc]\n",
    "HF_state.shape # aka first N/2 filled psi_i"
   ]
  },
  {
   "cell_type": "code",
   "execution_count": null,
   "metadata": {},
   "outputs": [],
   "source": []
  },
  {
   "cell_type": "markdown",
   "metadata": {},
   "source": [
    "Note $\\psi_{i}$ is a molecular orbital! (not atomic!)\n",
    "\n",
    "SO the 1e- integrals become:\n",
    "\n",
    "$$h_{ij} = (\\psi_{i} |h| \\psi_{j}) = \\sum_{\\mu} \\sum_{\\nu} C^{*}_{\\mu i} C_{\\nu j} F_{\\mu \\nu}^{\\text{AO basis}}$$"
   ]
  },
  {
   "cell_type": "code",
   "execution_count": 33,
   "metadata": {},
   "outputs": [
    {
     "name": "stdout",
     "output_type": "stream",
     "text": [
      "True\n",
      "False\n"
     ]
    }
   ],
   "source": [
    "# transform 1e- ints to MO basis!\n",
    "\n",
    "# convert to MO basis\n",
    "h_ij =  C.conj().T @ Fock @ C\n",
    "h_ij2 = np.einsum('mi,vj, mv->ij', C.conj(), C, Fock, optimize=True)\n",
    "\n",
    "print(np.allclose(h_ij, h_ij2))\n",
    "\n",
    "print(np.allclose(np.diag(h_ij), epsilon))"
   ]
  },
  {
   "cell_type": "code",
   "execution_count": 22,
   "metadata": {},
   "outputs": [
    {
     "data": {
      "text/plain": [
       "array([[-2.0576e+01,  1.0000e-04,  0.0000e+00, -0.0000e+00, -0.0000e+00,\n",
       "         0.0000e+00, -0.0000e+00, -0.0000e+00,  0.0000e+00, -0.0000e+00,\n",
       "        -0.0000e+00, -0.0000e+00,  0.0000e+00,  0.0000e+00, -0.0000e+00,\n",
       "         0.0000e+00,  1.0000e-04, -0.0000e+00, -0.0000e+00,  0.0000e+00,\n",
       "        -0.0000e+00, -0.0000e+00,  0.0000e+00,  0.0000e+00],\n",
       "       [ 1.0000e-04, -1.2780e+00,  0.0000e+00,  2.0000e-04,  0.0000e+00,\n",
       "        -2.0000e-04,  0.0000e+00,  0.0000e+00, -1.0000e-04,  0.0000e+00,\n",
       "        -0.0000e+00,  0.0000e+00, -0.0000e+00, -1.0000e-04,  0.0000e+00,\n",
       "         0.0000e+00, -3.0000e-04,  0.0000e+00,  1.0000e-04, -0.0000e+00,\n",
       "         0.0000e+00,  0.0000e+00, -0.0000e+00, -0.0000e+00],\n",
       "       [-0.0000e+00,  0.0000e+00, -6.3020e-01, -0.0000e+00, -0.0000e+00,\n",
       "        -0.0000e+00, -2.0000e-04,  2.0000e-04, -0.0000e+00,  0.0000e+00,\n",
       "         0.0000e+00,  3.0000e-04, -0.0000e+00, -0.0000e+00, -0.0000e+00,\n",
       "        -0.0000e+00,  0.0000e+00, -1.0000e-04,  0.0000e+00, -0.0000e+00,\n",
       "         0.0000e+00,  0.0000e+00,  0.0000e+00,  1.0000e-04],\n",
       "       [-0.0000e+00,  2.0000e-04,  0.0000e+00, -5.4200e-01, -0.0000e+00,\n",
       "        -1.0000e-04, -0.0000e+00, -0.0000e+00, -2.0000e-04, -4.0000e-04,\n",
       "         0.0000e+00, -0.0000e+00, -0.0000e+00,  1.0000e-04, -0.0000e+00,\n",
       "         0.0000e+00,  1.0000e-04, -0.0000e+00,  1.0000e-04,  0.0000e+00,\n",
       "        -0.0000e+00,  0.0000e+00,  1.0000e-04,  0.0000e+00],\n",
       "       [-0.0000e+00,  0.0000e+00, -0.0000e+00, -0.0000e+00, -4.8700e-01,\n",
       "         0.0000e+00, -0.0000e+00, -0.0000e+00, -0.0000e+00,  0.0000e+00,\n",
       "         5.0000e-04,  0.0000e+00, -0.0000e+00, -0.0000e+00,  0.0000e+00,\n",
       "         0.0000e+00, -0.0000e+00, -0.0000e+00, -0.0000e+00, -0.0000e+00,\n",
       "         0.0000e+00,  0.0000e+00,  0.0000e+00, -0.0000e+00],\n",
       "       [ 0.0000e+00, -2.0000e-04,  0.0000e+00, -1.0000e-04,  0.0000e+00,\n",
       "         1.5750e-01,  0.0000e+00,  0.0000e+00, -2.0000e-04, -1.0000e-04,\n",
       "        -0.0000e+00,  0.0000e+00,  0.0000e+00, -1.0000e-04, -0.0000e+00,\n",
       "         0.0000e+00, -2.0000e-04,  0.0000e+00,  2.0000e-04, -0.0000e+00,\n",
       "        -0.0000e+00,  0.0000e+00,  0.0000e+00, -0.0000e+00],\n",
       "       [ 0.0000e+00,  0.0000e+00, -2.0000e-04,  0.0000e+00, -0.0000e+00,\n",
       "        -0.0000e+00,  2.2940e-01,  2.0000e-04, -0.0000e+00,  0.0000e+00,\n",
       "         0.0000e+00,  3.0000e-04,  0.0000e+00, -0.0000e+00,  0.0000e+00,\n",
       "        -0.0000e+00,  0.0000e+00, -3.0000e-04,  0.0000e+00,  0.0000e+00,\n",
       "        -0.0000e+00, -0.0000e+00,  0.0000e+00,  0.0000e+00],\n",
       "       [ 0.0000e+00,  0.0000e+00,  2.0000e-04,  0.0000e+00, -0.0000e+00,\n",
       "        -0.0000e+00,  2.0000e-04,  7.0460e-01,  0.0000e+00,  0.0000e+00,\n",
       "         0.0000e+00, -1.0000e-04, -0.0000e+00,  0.0000e+00, -0.0000e+00,\n",
       "        -0.0000e+00,  0.0000e+00,  3.0000e-04,  0.0000e+00, -0.0000e+00,\n",
       "         0.0000e+00, -0.0000e+00,  0.0000e+00,  1.0000e-04],\n",
       "       [ 0.0000e+00, -1.0000e-04,  0.0000e+00, -2.0000e-04, -0.0000e+00,\n",
       "        -2.0000e-04,  0.0000e+00,  0.0000e+00,  7.4450e-01, -2.0000e-04,\n",
       "        -0.0000e+00,  0.0000e+00, -0.0000e+00,  0.0000e+00, -0.0000e+00,\n",
       "         0.0000e+00, -1.0000e-04, -0.0000e+00,  3.0000e-04, -0.0000e+00,\n",
       "         0.0000e+00, -0.0000e+00, -0.0000e+00,  0.0000e+00],\n",
       "       [-0.0000e+00,  0.0000e+00,  0.0000e+00, -4.0000e-04,  0.0000e+00,\n",
       "        -1.0000e-04, -0.0000e+00,  0.0000e+00, -2.0000e-04,  1.1705e+00,\n",
       "        -0.0000e+00, -0.0000e+00,  0.0000e+00,  2.0000e-04,  0.0000e+00,\n",
       "         0.0000e+00,  0.0000e+00, -0.0000e+00,  2.0000e-04,  0.0000e+00,\n",
       "        -0.0000e+00,  1.0000e-04,  2.0000e-04,  0.0000e+00],\n",
       "       [-0.0000e+00, -0.0000e+00,  0.0000e+00,  0.0000e+00,  5.0000e-04,\n",
       "        -0.0000e+00,  0.0000e+00,  0.0000e+00, -0.0000e+00, -0.0000e+00,\n",
       "         1.1861e+00,  0.0000e+00, -0.0000e+00, -0.0000e+00, -2.0000e-04,\n",
       "         0.0000e+00, -0.0000e+00, -0.0000e+00,  0.0000e+00,  1.0000e-04,\n",
       "         0.0000e+00, -0.0000e+00, -0.0000e+00, -0.0000e+00],\n",
       "       [ 0.0000e+00, -0.0000e+00,  3.0000e-04, -0.0000e+00,  0.0000e+00,\n",
       "        -0.0000e+00,  3.0000e-04, -1.0000e-04,  0.0000e+00, -0.0000e+00,\n",
       "         0.0000e+00,  1.2678e+00, -0.0000e+00,  0.0000e+00,  0.0000e+00,\n",
       "         1.0000e-04,  0.0000e+00,  3.0000e-04, -0.0000e+00,  0.0000e+00,\n",
       "        -0.0000e+00,  0.0000e+00, -0.0000e+00, -2.0000e-04],\n",
       "       [ 0.0000e+00, -0.0000e+00, -0.0000e+00, -0.0000e+00, -0.0000e+00,\n",
       "         0.0000e+00,  0.0000e+00, -0.0000e+00, -0.0000e+00,  0.0000e+00,\n",
       "        -0.0000e+00, -0.0000e+00,  1.4509e+00,  0.0000e+00, -0.0000e+00,\n",
       "        -0.0000e+00, -0.0000e+00, -0.0000e+00, -0.0000e+00, -0.0000e+00,\n",
       "         3.0000e-04, -0.0000e+00, -0.0000e+00, -0.0000e+00],\n",
       "       [ 0.0000e+00, -1.0000e-04, -0.0000e+00,  1.0000e-04, -0.0000e+00,\n",
       "        -1.0000e-04,  0.0000e+00,  0.0000e+00,  0.0000e+00,  2.0000e-04,\n",
       "        -0.0000e+00,  0.0000e+00,  0.0000e+00,  1.4738e+00,  0.0000e+00,\n",
       "        -0.0000e+00, -2.0000e-04,  0.0000e+00, -0.0000e+00,  0.0000e+00,\n",
       "        -0.0000e+00,  3.0000e-04, -0.0000e+00, -0.0000e+00],\n",
       "       [-0.0000e+00,  0.0000e+00, -0.0000e+00, -0.0000e+00,  0.0000e+00,\n",
       "        -0.0000e+00,  0.0000e+00, -0.0000e+00, -0.0000e+00,  0.0000e+00,\n",
       "        -2.0000e-04,  0.0000e+00, -0.0000e+00,  0.0000e+00,  1.6584e+00,\n",
       "         0.0000e+00, -0.0000e+00, -0.0000e+00,  0.0000e+00, -3.0000e-04,\n",
       "        -0.0000e+00, -0.0000e+00, -0.0000e+00, -0.0000e+00],\n",
       "       [-0.0000e+00,  0.0000e+00, -0.0000e+00,  0.0000e+00,  0.0000e+00,\n",
       "         0.0000e+00, -0.0000e+00, -0.0000e+00, -0.0000e+00,  0.0000e+00,\n",
       "         0.0000e+00,  1.0000e-04, -0.0000e+00, -0.0000e+00,  0.0000e+00,\n",
       "         1.8042e+00,  0.0000e+00, -0.0000e+00,  0.0000e+00,  0.0000e+00,\n",
       "         0.0000e+00, -0.0000e+00,  0.0000e+00,  1.0000e-04],\n",
       "       [ 1.0000e-04, -3.0000e-04, -0.0000e+00,  1.0000e-04, -0.0000e+00,\n",
       "        -2.0000e-04,  0.0000e+00,  0.0000e+00, -1.0000e-04,  0.0000e+00,\n",
       "        -0.0000e+00,  0.0000e+00, -0.0000e+00, -2.0000e-04, -0.0000e+00,\n",
       "         0.0000e+00,  1.8911e+00, -0.0000e+00,  0.0000e+00,  0.0000e+00,\n",
       "        -0.0000e+00, -1.0000e-04,  1.0000e-04,  0.0000e+00],\n",
       "       [ 0.0000e+00,  0.0000e+00, -1.0000e-04,  0.0000e+00, -0.0000e+00,\n",
       "        -0.0000e+00, -3.0000e-04,  3.0000e-04, -0.0000e+00,  0.0000e+00,\n",
       "        -0.0000e+00,  3.0000e-04, -0.0000e+00, -0.0000e+00, -0.0000e+00,\n",
       "        -0.0000e+00, -0.0000e+00,  2.1489e+00,  0.0000e+00,  0.0000e+00,\n",
       "         0.0000e+00,  0.0000e+00,  0.0000e+00, -3.0000e-04],\n",
       "       [-0.0000e+00,  1.0000e-04,  0.0000e+00,  1.0000e-04, -0.0000e+00,\n",
       "         2.0000e-04, -0.0000e+00, -0.0000e+00,  3.0000e-04,  2.0000e-04,\n",
       "         0.0000e+00, -0.0000e+00, -0.0000e+00, -0.0000e+00,  0.0000e+00,\n",
       "        -0.0000e+00,  0.0000e+00, -0.0000e+00,  2.2001e+00, -0.0000e+00,\n",
       "        -0.0000e+00, -1.0000e-04,  3.0000e-04,  0.0000e+00],\n",
       "       [ 0.0000e+00, -0.0000e+00, -0.0000e+00,  0.0000e+00, -0.0000e+00,\n",
       "        -0.0000e+00,  0.0000e+00, -0.0000e+00, -0.0000e+00,  0.0000e+00,\n",
       "         1.0000e-04,  0.0000e+00,  0.0000e+00,  0.0000e+00, -3.0000e-04,\n",
       "         0.0000e+00,  0.0000e+00,  0.0000e+00, -0.0000e+00,  3.1722e+00,\n",
       "        -0.0000e+00,  0.0000e+00,  0.0000e+00,  0.0000e+00],\n",
       "       [-0.0000e+00,  0.0000e+00,  0.0000e+00, -0.0000e+00,  0.0000e+00,\n",
       "        -0.0000e+00, -0.0000e+00,  0.0000e+00,  0.0000e+00, -0.0000e+00,\n",
       "         0.0000e+00, -0.0000e+00,  3.0000e-04, -0.0000e+00, -0.0000e+00,\n",
       "         0.0000e+00, -0.0000e+00,  0.0000e+00, -0.0000e+00, -0.0000e+00,\n",
       "         3.2093e+00,  0.0000e+00, -0.0000e+00,  0.0000e+00],\n",
       "       [-0.0000e+00,  0.0000e+00, -0.0000e+00,  0.0000e+00,  0.0000e+00,\n",
       "         0.0000e+00, -0.0000e+00, -0.0000e+00, -0.0000e+00,  1.0000e-04,\n",
       "        -0.0000e+00, -0.0000e+00, -0.0000e+00,  3.0000e-04, -0.0000e+00,\n",
       "        -0.0000e+00, -1.0000e-04,  0.0000e+00, -1.0000e-04,  0.0000e+00,\n",
       "         0.0000e+00,  3.3277e+00, -0.0000e+00, -0.0000e+00],\n",
       "       [ 0.0000e+00, -0.0000e+00, -0.0000e+00,  1.0000e-04,  0.0000e+00,\n",
       "         0.0000e+00, -0.0000e+00,  0.0000e+00, -0.0000e+00,  2.0000e-04,\n",
       "        -0.0000e+00,  0.0000e+00, -0.0000e+00, -0.0000e+00, -0.0000e+00,\n",
       "        -0.0000e+00,  1.0000e-04,  0.0000e+00,  3.0000e-04,  0.0000e+00,\n",
       "        -0.0000e+00, -0.0000e+00,  3.7210e+00,  0.0000e+00],\n",
       "       [-0.0000e+00, -0.0000e+00,  1.0000e-04,  0.0000e+00, -0.0000e+00,\n",
       "         0.0000e+00,  0.0000e+00,  1.0000e-04, -0.0000e+00, -0.0000e+00,\n",
       "        -0.0000e+00, -2.0000e-04, -0.0000e+00, -0.0000e+00, -0.0000e+00,\n",
       "         1.0000e-04,  0.0000e+00, -3.0000e-04, -0.0000e+00,  0.0000e+00,\n",
       "         0.0000e+00, -0.0000e+00,  0.0000e+00,  3.9851e+00]])"
      ]
     },
     "execution_count": 22,
     "metadata": {},
     "output_type": "execute_result"
    }
   ],
   "source": [
    "np.around(h_ij, 4) # should be diagonal, with energies as entries! see Szabo pg 165"
   ]
  },
  {
   "cell_type": "code",
   "execution_count": 23,
   "metadata": {},
   "outputs": [
    {
     "data": {
      "text/plain": [
       "array([-20.57291124,  -1.27694091,  -0.62948944,  -0.54113768,\n",
       "        -0.48589458,   0.15774614,   0.22964136,   0.70482856,\n",
       "         0.74469901,   1.17122686,   1.18693932,   1.26844382,\n",
       "         1.45100902,   1.47415861,   1.6585867 ,   1.80429372,\n",
       "         1.89188971,   2.1494088 ,   2.20052441,   3.17325002,\n",
       "         3.21033819,   3.32871941,   3.72193771,   3.98608357])"
      ]
     },
     "execution_count": 23,
     "metadata": {},
     "output_type": "execute_result"
    }
   ],
   "source": [
    "epsilon"
   ]
  },
  {
   "cell_type": "markdown",
   "metadata": {},
   "source": [
    "Szabo pg 150!\n",
    "\n",
    "\n",
    "$$<O_{1}> = <\\Psi_{i} |O_{1} |\\Psi_{i}> = \\sum_{a}^{N/2}  (\\psi_{a} |h| \\psi_{a}) =  \\sum_{\\mu} \\sum_{\\nu} C^{*}_{\\mu i} C_{\\nu j} F_{\\mu \\nu}^{\\text{AO basis}}$$"
   ]
  },
  {
   "cell_type": "code",
   "execution_count": 24,
   "metadata": {},
   "outputs": [
    {
     "name": "stdout",
     "output_type": "stream",
     "text": [
      "(array(-23.51316063), array(-23.51316063))\n"
     ]
    },
    {
     "data": {
      "text/plain": [
       "True"
      ]
     },
     "execution_count": 24,
     "metadata": {},
     "output_type": "execute_result"
    }
   ],
   "source": [
    "# Szabo pg 150!\n",
    "\n",
    "AA = np.einsum('ii->', h_ij[:n_docc, :n_docc], optimize=True) # need 0.5 as double counting otherwise\n",
    "BB = np.einsum('pq,pq ->', D, Fock, optimize=True)\n",
    "print((AA, BB))\n",
    "np.isclose(AA, BB)"
   ]
  },
  {
   "cell_type": "markdown",
   "metadata": {},
   "source": [
    "notice how MO basis is much easier to evaluate $<O_{1}>$... just use Slater rules (which turns out to be diagonal elements of hij)! "
   ]
  },
  {
   "cell_type": "code",
   "execution_count": null,
   "metadata": {},
   "outputs": [],
   "source": []
  },
  {
   "cell_type": "code",
   "execution_count": null,
   "metadata": {},
   "outputs": [],
   "source": []
  },
  {
   "cell_type": "markdown",
   "metadata": {},
   "source": [
    "Note $\\psi_{i}$ is a molecular orbital! (not atomic!)\n",
    "\n",
    "SO the 2e- integrals become:\n",
    "\n",
    "$$(\\psi_{i} \\psi_{j}|\\psi_{k} \\psi_{l}) = \\sum_{\\mu} \\sum_{\\nu} \\sum_{\\lambda} \\sum_{\\sigma} C^{*}_{\\mu i} C_{\\nu j} C^{*}_{\\lambda k} C_{\\sigma l} (\\mu \\nu | \\lambda \\sigma )$$"
   ]
  },
  {
   "cell_type": "code",
   "execution_count": null,
   "metadata": {},
   "outputs": [],
   "source": []
  },
  {
   "cell_type": "code",
   "execution_count": null,
   "metadata": {},
   "outputs": [],
   "source": []
  },
  {
   "cell_type": "code",
   "execution_count": 34,
   "metadata": {},
   "outputs": [
    {
     "data": {
      "text/plain": [
       "(24, 24, 24, 24)"
      ]
     },
     "execution_count": 34,
     "metadata": {},
     "output_type": "execute_result"
    }
   ],
   "source": [
    "# transform 2e- ints to MO basis!\n",
    "\n",
    "# Cocc = C[:, :n_docc] # occupied\n",
    "# Cvirt = C[:, n_docc:] # unoccupied\n",
    "\n",
    "# tmp = np.einsum('pi,pqrs->iqrs', Cocc, eri_ao, optimize=True)\n",
    "# tmp = np.einsum('qa,iqrs->iars', Cvirt, tmp, optimize=True)\n",
    "# tmp = np.einsum('iars,rj->iajs', tmp, Cocc, optimize=True)\n",
    "# ERI_mo_basis = np.einsum('iajs,sb->iajb', tmp, Cvirt, optimize=True)\n",
    "# mo_ints.shape\n",
    "\n",
    "tmp = np.einsum('pi,pqrs->iqrs', C, eri_ao, optimize=True)\n",
    "tmp = np.einsum('qa,iqrs->iars', C, tmp, optimize=True)\n",
    "tmp = np.einsum('iars,rj->iajs', tmp, C, optimize=True)\n",
    "ERI_mo_basis = np.einsum('iajs,sb->iajb', tmp, C, optimize=True)\n",
    "del tmp\n",
    "ERI_mo_basis.shape"
   ]
  },
  {
   "cell_type": "code",
   "execution_count": 35,
   "metadata": {},
   "outputs": [
    {
     "data": {
      "text/plain": [
       "(24, 24, 24, 24)"
      ]
     },
     "execution_count": 35,
     "metadata": {},
     "output_type": "execute_result"
    }
   ],
   "source": [
    "pyscf_mo_ints = ao2mo.kernel(full_system_mol, full_system_scf.mo_coeff)#, aosym=1)\n",
    "\n",
    "# Convert the 2e integrals (in Chemist’s notation) \n",
    "pyscf_mo_ints = ao2mo.restore(1, pyscf_mo_ints, n_bas_ft)\n",
    "\n",
    "\n",
    "# pyscf_mo_ints = mo_ints.transpose(0,2,3,1) #<- converts to physists notation if needed\n",
    "pyscf_mo_ints.shape"
   ]
  },
  {
   "cell_type": "code",
   "execution_count": 49,
   "metadata": {},
   "outputs": [
    {
     "data": {
      "text/plain": [
       "False"
      ]
     },
     "execution_count": 49,
     "metadata": {},
     "output_type": "execute_result"
    }
   ],
   "source": [
    "np.allclose(ERI_mo_basis, pyscf_mo_ints)"
   ]
  },
  {
   "cell_type": "code",
   "execution_count": 50,
   "metadata": {},
   "outputs": [
    {
     "data": {
      "text/plain": [
       "(array([ 0,  0,  0, ..., 23, 23, 23]),\n",
       " array([ 0,  0,  0, ..., 23, 23, 23]),\n",
       " array([ 0,  0,  0, ..., 23, 23, 23]),\n",
       " array([ 8,  9, 13, ...,  6, 15, 17]))"
      ]
     },
     "execution_count": 50,
     "metadata": {},
     "output_type": "execute_result"
    }
   ],
   "source": [
    "np.where(np.around(ERI_mo_basis, 3)!= np.around(pyscf_mo_ints, 3))"
   ]
  },
  {
   "cell_type": "code",
   "execution_count": 51,
   "metadata": {},
   "outputs": [
    {
     "data": {
      "text/plain": [
       "-0.20966332799391596"
      ]
     },
     "execution_count": 51,
     "metadata": {},
     "output_type": "execute_result"
    }
   ],
   "source": [
    "ERI_mo_basis[0,0,0,8]-pyscf_mo_ints[0,0,0,8]"
   ]
  },
  {
   "cell_type": "markdown",
   "metadata": {},
   "source": [
    "This is 4D array for electron repulsion integrals in the MO representations...\n",
    "\n",
    "\n",
    "Such MO integrals are required for all electron correlation methods. The two-electron AO integrals are the most numerous and the above equation appears to involve a computational effect proportional to M^8 (M^4 AO integrals each multiplied by four sets of M basis MO coefficients). However, by performing the transformation one index at a time, the computational effort can be reduced to M^5.\n",
    "\n",
    "Each  step  now  only  involves  multiplication  of  M^4 basis integrals  with  M basis coefficients, i.e. the M^8 basis dependence is reduced to four M^5 operations. In the large basis set limit, all electron correlation methods formally scale as at least M 5basis, since this is the scaling for the AO to MO integral transformation. The transformation is an example of a “rotation” of the “coordinate” system consisting of the AOs, to one where the Fock operator is diagonal, the MOs (see Section 16.2). The diagonal system allows a much more compact representation  of  the  matrix  elements  needed  for  the  electron  correlation treatment. The coordinate change is also known as a four index transformation, since it involves four indices associated with the basis functions."
   ]
  },
  {
   "cell_type": "code",
   "execution_count": 63,
   "metadata": {},
   "outputs": [
    {
     "data": {
      "text/plain": [
       "-75.98437771164191"
      ]
     },
     "execution_count": 63,
     "metadata": {},
     "output_type": "execute_result"
    }
   ],
   "source": [
    "## szabo pg 73! (eq 2.111) [may need eq 2.176 pg 84!]\n",
    "\n",
    "hcore_ij =  C.conj().T @ H_core @ C # <psi H psi> # NOT FOCK\n",
    "# hcore_ij = np.einsum('mi,vj, mv->ij', C.conj(), C, H_core, optimize=True)\n",
    "\n",
    "E = 2*np.einsum('ii->', hcore_ij[:n_docc, :n_docc], optimize=True)\n",
    "\n",
    "two_J = 2*np.einsum('iijj->', pyscf_mo_ints[:n_docc, :n_docc, :n_docc, :n_docc], optimize=True)\n",
    "K = np.einsum('ijji->', pyscf_mo_ints[:n_docc, :n_docc, :n_docc, :n_docc], optimize=True)\n",
    "E+= (two_J-K)\n",
    "\n",
    "E+= full_system_mol.energy_nuc()\n",
    "\n",
    "E"
   ]
  },
  {
   "cell_type": "code",
   "execution_count": 64,
   "metadata": {},
   "outputs": [
    {
     "data": {
      "text/plain": [
       "0.005418072420098952"
      ]
     },
     "execution_count": 64,
     "metadata": {},
     "output_type": "execute_result"
    }
   ],
   "source": [
    "np.abs(E_HF_Pyscf - E)"
   ]
  },
  {
   "cell_type": "code",
   "execution_count": 56,
   "metadata": {},
   "outputs": [
    {
     "data": {
      "text/plain": [
       "-75.98437771164191"
      ]
     },
     "execution_count": 56,
     "metadata": {},
     "output_type": "execute_result"
    }
   ],
   "source": [
    "## szabo pg 73! (eq 2.111) [may need eq 2.176 pg 84!]\n",
    "\n",
    "hcore_ij =  C.conj().T @ H_core @ C # <psi H psi> # NOT FOCK\n",
    "\n",
    "E = 0\n",
    "for i in range(n_docc):\n",
    "    E+= 2*hcore_ij[i,i]\n",
    "\n",
    "for i in range(n_docc):\n",
    "    for j in range(n_docc):\n",
    "        E+= (2*pyscf_mo_ints[i,i,j,j] - pyscf_mo_ints[i,j,j,i])\n",
    "\n",
    "E + full_system_mol.energy_nuc()"
   ]
  },
  {
   "cell_type": "code",
   "execution_count": 54,
   "metadata": {},
   "outputs": [
    {
     "data": {
      "text/plain": [
       "-75.98979578406201"
      ]
     },
     "execution_count": 54,
     "metadata": {},
     "output_type": "execute_result"
    }
   ],
   "source": [
    "E_HF_Pyscf"
   ]
  },
  {
   "cell_type": "code",
   "execution_count": 31,
   "metadata": {},
   "outputs": [
    {
     "ename": "NameError",
     "evalue": "name 'fadsfasdf' is not defined",
     "output_type": "error",
     "traceback": [
      "\u001b[0;31m---------------------------------------------------------------------------\u001b[0m",
      "\u001b[0;31mNameError\u001b[0m                                 Traceback (most recent call last)",
      "\u001b[0;32m<ipython-input-31-0b69b4feec8b>\u001b[0m in \u001b[0;36m<module>\u001b[0;34m\u001b[0m\n\u001b[0;32m----> 1\u001b[0;31m \u001b[0mfadsfasdf\u001b[0m\u001b[0;34m\u001b[0m\u001b[0;34m\u001b[0m\u001b[0m\n\u001b[0m",
      "\u001b[0;31mNameError\u001b[0m: name 'fadsfasdf' is not defined"
     ]
    }
   ],
   "source": [
    "fadsfasdf"
   ]
  },
  {
   "cell_type": "code",
   "execution_count": null,
   "metadata": {},
   "outputs": [],
   "source": []
  },
  {
   "cell_type": "code",
   "execution_count": null,
   "metadata": {},
   "outputs": [],
   "source": [
    "## szabo pg 73! (eq 2.111) [may need eq 2.176 pg 84!]\n",
    "E = 0\n",
    "for i in range(n_docc):\n",
    "    E+= h_ij[i,i]\n",
    "\n",
    "for i in range(n_docc):\n",
    "    for j in range(i, n_docc):\n",
    "        E+= 0.5*(pyscf_mo_ints[i,i,j,j] - pyscf_mo_ints[i,j,j,i])\n",
    "\n",
    "E + full_system_mol.energy_nuc()"
   ]
  },
  {
   "cell_type": "code",
   "execution_count": null,
   "metadata": {},
   "outputs": [],
   "source": [
    "JJ=0\n",
    "for i in range(n_docc):\n",
    "    for j in range(n_docc):\n",
    "        \n",
    "        JJ += pyscf_mo_ints[i,i, j,j]\n",
    "JJ"
   ]
  },
  {
   "cell_type": "code",
   "execution_count": null,
   "metadata": {},
   "outputs": [],
   "source": [
    "pyscf_mo_ints[0,0,0,0]"
   ]
  },
  {
   "cell_type": "code",
   "execution_count": null,
   "metadata": {},
   "outputs": [],
   "source": [
    "np.einsum('pq,pq ->', D, J_mat, optimize=True)\n",
    "\n",
    "np.einsum('iijj ->', pyscf_mo_ints, optimize=True) # "
   ]
  },
  {
   "cell_type": "code",
   "execution_count": null,
   "metadata": {},
   "outputs": [],
   "source": [
    "np.einsum('iijj ->', pyscf_mo_ints[:N, :N, :N, :N], optimize=True) # [:n_docc, :n_docc, :n_docc, :n_docc]"
   ]
  },
  {
   "cell_type": "code",
   "execution_count": null,
   "metadata": {},
   "outputs": [],
   "source": [
    "J_MO = np.einsum('iijj -> ij', pyscf_mo_ints, optimize=True) # [:n_docc, :n_docc, :n_docc, :n_docc]\n",
    "\n",
    "J_mat = np.einsum('mvls,ls -> mv', eri_ao, D, optimize=True)\n",
    "np.einsum('pq,pq ->', D, J_mat, optimize=True)"
   ]
  },
  {
   "cell_type": "code",
   "execution_count": null,
   "metadata": {},
   "outputs": [],
   "source": []
  },
  {
   "cell_type": "markdown",
   "metadata": {},
   "source": [
    "# NEXT convert the spatial MOs to spin MOs "
   ]
  },
  {
   "cell_type": "code",
   "execution_count": null,
   "metadata": {},
   "outputs": [],
   "source": [
    "n_qubits = 2* h_ij.shape[0]\n",
    "\n",
    "one_body_terms = np.zeros((n_qubits, n_qubits))\n",
    "two_body_terms = np.zeros((n_qubits, n_qubits, n_qubits, n_qubits))\n",
    "\n",
    "for p in range(n_qubits//2):\n",
    "    for q in range(n_qubits//2):\n",
    "        \n",
    "        # populate 1-body terms (must have same spin, otherwise orthogonal)\n",
    "        one_body_terms[2*p, 2*q] = h_ij[p,q] # spin UP\n",
    "        one_body_terms[(2*p + 1), (2*q +1)] = h_ij[p,q] # spin DOWN\n",
    "        \n",
    "        # continue 2-body terms\n",
    "        \n",
    "        for r in range(n_qubits//2):\n",
    "            for s in range(n_qubits//2):\n",
    "                \n",
    "                ### mixed spin                \n",
    "                two_body_terms[2*p, (2*q +1) , (2*r + 1), 2*s] = mo_ints[p,q,r,s] # up down down up\n",
    "                two_body_terms[(2*p+1), 2*q , 2*r, (2*s +1)] = mo_ints[p,q,r,s] # down up up down\n",
    "                # other mixed terms go to zero!\n",
    "                \n",
    "                ### SAME spin                \n",
    "                two_body_terms[2*p, 2*q , 2*r, 2*s] = mo_ints[p,q,r,s] # up up up up\n",
    "                two_body_terms[(2*p+1), (2*q +1) , (2*r + 1), (2*s +1)] = mo_ints[p,q,r,s] # down down down down\n",
    "                \n",
    "                "
   ]
  },
  {
   "cell_type": "code",
   "execution_count": null,
   "metadata": {},
   "outputs": [],
   "source": [
    "J_mat = np.einsum('mvls,ls -> mv', eri_ao, D, optimize=True)\n",
    "K_mat = np.einsum('mlvs,ls -> mv', eri_ao, D, optimize=True)"
   ]
  },
  {
   "cell_type": "code",
   "execution_count": null,
   "metadata": {},
   "outputs": [],
   "source": [
    "# diagonal of one_body_term should be MO energies\n",
    "\n",
    "np.diag(one_body_terms) # spin up, spin down ordering! (MO energies!)"
   ]
  },
  {
   "cell_type": "code",
   "execution_count": null,
   "metadata": {},
   "outputs": [],
   "source": [
    "two_body_terms.shape"
   ]
  },
  {
   "cell_type": "code",
   "execution_count": null,
   "metadata": {},
   "outputs": [],
   "source": []
  },
  {
   "cell_type": "code",
   "execution_count": null,
   "metadata": {},
   "outputs": [],
   "source": [
    "J_mat = np.einsum('mvls,ls -> mv', eri_ao, D, optimize=True)\n",
    "K_mat = np.einsum('mlvs,ls -> mv', eri_ao, D, optimize=True)\n",
    "    \n",
    "\n",
    "print(np.einsum('pq,pq ->', D, J_mat, optimize=True))\n",
    "np.einsum('iijj->', two_body_terms[:N, :N, :N:, :N])"
   ]
  },
  {
   "cell_type": "code",
   "execution_count": null,
   "metadata": {},
   "outputs": [],
   "source": [
    "EE = 0\n",
    "for i in range(N):\n",
    "    for j in range(N):\n",
    "#         print(two_body_terms[i,i,j,j])\n",
    "#         print(two_body_terms[i,j,i,j])\n",
    "        EE += two_body_terms[i,i,j,j] - two_body_terms[i,j,i,j]\n",
    "    \n",
    "EE"
   ]
  },
  {
   "cell_type": "code",
   "execution_count": null,
   "metadata": {},
   "outputs": [],
   "source": [
    "N = full_system_mol.nelectron\n",
    "E_HF_MO = (np.einsum('ii->', one_body_terms[:N, :N], optimize=True)\n",
    "           + 2*np.einsum('iijj->', two_body_terms[:N, :N, :N, :N], optimize=True)\n",
    "           - np.einsum('ijij->', two_body_terms[:N, :N, :N, :N], optimize=True)\n",
    "           +  full_system_mol.energy_nuc()\n",
    "          )\n",
    "E_HF_MO"
   ]
  },
  {
   "cell_type": "code",
   "execution_count": null,
   "metadata": {},
   "outputs": [],
   "source": [
    "C_occ.shape"
   ]
  },
  {
   "cell_type": "code",
   "execution_count": null,
   "metadata": {},
   "outputs": [],
   "source": [
    "one_body_terms.shape\n",
    "\n",
    "D.shape"
   ]
  },
  {
   "cell_type": "code",
   "execution_count": null,
   "metadata": {},
   "outputs": [],
   "source": [
    "full_system_mol.energy_nuc()"
   ]
  },
  {
   "cell_type": "code",
   "execution_count": null,
   "metadata": {},
   "outputs": [],
   "source": []
  },
  {
   "cell_type": "code",
   "execution_count": null,
   "metadata": {},
   "outputs": [],
   "source": [
    "\n",
    "CC = C[:, :n_docc]\n",
    "\n",
    "J_mat = np.einsum('mvls,ls -> mv', ERI_mo_basis, D, optimize=True)\n",
    "K_mat = np.einsum('mlvs,ls -> mv', ERI_mo_basis, D, optimize=True)\n",
    "\n",
    "HF_energy =(np.trace(H_core @ D) \n",
    "            +  2*np.einsum('ij->', J_mat) \n",
    "            -  np.einsum('ij->', K_mat))\n",
    "HF_energy"
   ]
  },
  {
   "cell_type": "code",
   "execution_count": null,
   "metadata": {},
   "outputs": [],
   "source": []
  },
  {
   "cell_type": "markdown",
   "metadata": {},
   "source": [
    "In MO basis we have:\n",
    "\n",
    "$$E_{0} = <\\psi_{0}| H_{full} | \\psi_{0}> = 2 \\sum_{i} (i |h|i) + \\sum_{i}\\sum_{j} 2(ii|jj) - 2(ij|ji)$$\n",
    "$$E_{0} = 2 \\sum_{i}^{N/2} h_{ii} +  \\sum_{i}^{N/2} \\sum_{j}^{N/2} 2 J_{ij} - K_{ij}$$"
   ]
  },
  {
   "cell_type": "code",
   "execution_count": null,
   "metadata": {},
   "outputs": [],
   "source": [
    "J_mat = np.einsum('mvls,ls -> mv', eri_ao, D, optimize=True)\n",
    "K_mat = np.einsum('mlvs,ls -> mv', eri_ao, D, optimize=True)\n",
    "\n",
    "E_MO_HF = (2*np.einsum('ii->', h_ij[:n_docc, :n_docc])\n",
    "           + 2*np.einsum('ij->', J_mat[:n_docc, :n_docc]) \n",
    "           - np.einsum('ij->', K_mat[:n_docc, :n_docc])\n",
    "           + full_system_mol.energy_nuc())  \n",
    "E_MO_HF"
   ]
  },
  {
   "cell_type": "code",
   "execution_count": null,
   "metadata": {},
   "outputs": [],
   "source": [
    "D_MO = C.T @C \n",
    "\n",
    "J_mat_MO = np.einsum('mvls,ls -> mv', ERI_mo_basis, D_MO, optimize=True)\n",
    "K_mat_MO = np.einsum('mlvs,ls -> mv', ERI_mo_basis, D_MO, optimize=True)\n",
    "\n",
    "E_MO_HF = (2*np.einsum('ii->', h_ij[:n_docc, :n_docc]) + \n",
    "           2*np.einsum('ij->', J_mat_MO[:n_docc, :n_docc]) - \n",
    "           np.einsum('ij->', K_mat_MO[:n_docc, :n_docc])) \n",
    "E_MO_HF"
   ]
  },
  {
   "cell_type": "code",
   "execution_count": null,
   "metadata": {},
   "outputs": [],
   "source": [
    "# D_MO = 2 * D@S\n",
    "\n",
    "J_mat = np.einsum('mvls,ls -> mv', eri_ao, D, optimize=True)\n",
    "K_mat = np.einsum('mlvs,ls -> mv', eri_ao, D, optimize=True)\n",
    "\n",
    "D_occ = C[:, :n_docc] @ (C[:, :n_docc]).T\n",
    "# D_occ = C @ C.T\n",
    "\n",
    "J_mat = D_occ @ J_mat\n",
    "K_mat = D_occ @ K_mat\n",
    "\n",
    "\n",
    "twoJ_K = 2*J_mat-K_mat\n",
    "\n",
    "E_MO_HF = 2*np.einsum('ii->', h_ij[:n_docc, :n_docc]) + np.einsum('ij->', twoJ_K[:n_docc, :n_docc])\n",
    "E_MO_HF"
   ]
  },
  {
   "cell_type": "code",
   "execution_count": null,
   "metadata": {},
   "outputs": [],
   "source": [
    "TODO: find density matrix in MO basis (think it was in one of the many opened tabs!)"
   ]
  },
  {
   "cell_type": "code",
   "execution_count": null,
   "metadata": {},
   "outputs": [],
   "source": [
    "# D_MO = 2 * D@S\n",
    "\n",
    "J_mat = np.einsum('mvls,ls -> mv', ERI_mo_basis, D, optimize=True)\n",
    "K_mat = np.einsum('mlvs,ls -> mv', ERI_mo_basis, D, optimize=True)\n",
    "twoJ_K = 2*J_mat-K_mat\n",
    "\n",
    "E_MO_HF = 2*np.einsum('ii->', h_ij[:n_docc, :n_docc]) + np.einsum('ij->', twoJ_K[:n_docc, :n_docc]) + full_system_mol.energy_nuc()\n",
    "E_MO_HF"
   ]
  },
  {
   "cell_type": "code",
   "execution_count": null,
   "metadata": {},
   "outputs": [],
   "source": [
    "D_MO = 2* D @ S\n",
    "\n",
    "np.trace(D_MO)"
   ]
  },
  {
   "cell_type": "code",
   "execution_count": null,
   "metadata": {},
   "outputs": [],
   "source": [
    " C_occ @ C_occ.T"
   ]
  },
  {
   "cell_type": "code",
   "execution_count": null,
   "metadata": {},
   "outputs": [],
   "source": [
    "h_ij = (C @ C.conj().T @ H_core)#[:n_docc, :n_docc]\n",
    "\n",
    "J_mat_MO = np.einsum('mvls,ls -> mv', ERI_mo_basis, D_occ, optimize=True)\n",
    "K_mat_MO = np.einsum('mlvs,ls -> mv', ERI_mo_basis, D_occ, optimize=True)\n",
    "\n",
    "twoJ_K = 2*J_mat_MO-K_mat_MO\n",
    "\n",
    "E_MO_HF = 2*np.einsum('ii->', h_ij[:n_docc, :n_docc]) + np.einsum('ij->', twoJ_K[:n_docc, :n_docc]) + full_system_mol.energy_nuc()\n",
    "E_MO_HF"
   ]
  },
  {
   "cell_type": "code",
   "execution_count": null,
   "metadata": {},
   "outputs": [],
   "source": []
  },
  {
   "cell_type": "code",
   "execution_count": null,
   "metadata": {},
   "outputs": [],
   "source": [
    "Fock@C[:,0]"
   ]
  },
  {
   "cell_type": "code",
   "execution_count": null,
   "metadata": {},
   "outputs": [],
   "source": [
    "epsilon[0]*C[:,0]"
   ]
  },
  {
   "cell_type": "code",
   "execution_count": null,
   "metadata": {},
   "outputs": [],
   "source": [
    "epsilon[2]"
   ]
  },
  {
   "cell_type": "code",
   "execution_count": null,
   "metadata": {},
   "outputs": [],
   "source": [
    "F_MO[2,2]"
   ]
  },
  {
   "cell_type": "markdown",
   "metadata": {},
   "source": []
  },
  {
   "cell_type": "code",
   "execution_count": null,
   "metadata": {},
   "outputs": [],
   "source": [
    "DD_MO =   D \n",
    "\n",
    "J_mat_MO = np.einsum('mvls,ls -> mv', ERI_mo_basis, DD_MO, optimize=True)\n",
    "K_mat_MO = np.einsum('mlvs,ls -> mv', ERI_mo_basis, DD_MO, optimize=True)\n",
    "\n",
    "twoJ_K = 2*J_mat_MO-K_mat_MO\n",
    "\n",
    "E_MO_HF = 2*np.einsum('ii->', h_ij[:n_docc, :n_docc]) + np.einsum('ij->', twoJ_K[:n_docc, :n_docc])\n",
    "E_MO_HF"
   ]
  },
  {
   "cell_type": "code",
   "execution_count": null,
   "metadata": {},
   "outputs": [],
   "source": []
  },
  {
   "cell_type": "code",
   "execution_count": null,
   "metadata": {},
   "outputs": [],
   "source": []
  },
  {
   "cell_type": "code",
   "execution_count": null,
   "metadata": {},
   "outputs": [],
   "source": [
    "D_MO = C_occ @ C_occ.conj().T\n",
    "np.allclose(D, D_MO)"
   ]
  },
  {
   "cell_type": "code",
   "execution_count": null,
   "metadata": {},
   "outputs": [],
   "source": [
    "D_MO = 2* C_occ @ C_occ.conj().T"
   ]
  },
  {
   "cell_type": "code",
   "execution_count": null,
   "metadata": {},
   "outputs": [],
   "source": [
    "ao2mo.restore(1, eri_ao, n_bas_ft).shape"
   ]
  },
  {
   "cell_type": "code",
   "execution_count": null,
   "metadata": {},
   "outputs": [],
   "source": []
  },
  {
   "cell_type": "code",
   "execution_count": null,
   "metadata": {},
   "outputs": [],
   "source": []
  },
  {
   "cell_type": "code",
   "execution_count": null,
   "metadata": {},
   "outputs": [],
   "source": []
  },
  {
   "cell_type": "code",
   "execution_count": null,
   "metadata": {},
   "outputs": [],
   "source": []
  }
 ],
 "metadata": {
  "kernelspec": {
   "display_name": "Python 3",
   "language": "python",
   "name": "python3"
  },
  "language_info": {
   "codemirror_mode": {
    "name": "ipython",
    "version": 3
   },
   "file_extension": ".py",
   "mimetype": "text/x-python",
   "name": "python",
   "nbconvert_exporter": "python",
   "pygments_lexer": "ipython3",
   "version": "3.8.5"
  }
 },
 "nbformat": 4,
 "nbformat_minor": 4
}
