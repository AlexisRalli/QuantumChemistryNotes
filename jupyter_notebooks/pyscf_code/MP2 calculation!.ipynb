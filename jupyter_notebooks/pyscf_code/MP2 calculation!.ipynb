{
 "cells": [
  {
   "cell_type": "code",
   "execution_count": 1,
   "metadata": {},
   "outputs": [],
   "source": [
    "import numpy as np\n",
    "import scipy as sp\n",
    "from pyscf import gto, scf, ao2mo"
   ]
  },
  {
   "cell_type": "markdown",
   "metadata": {},
   "source": [
    "# Background"
   ]
  },
  {
   "cell_type": "markdown",
   "metadata": {},
   "source": [
    "Hartree-Fock Self-Consistent Field Theory (HF-SCF) with restricted orbitals and closed-shell systems (RHF) sovles the following pseduo eigenvalue problem:\n",
    "\n",
    "$$FC = S C \\epsilon$$\n",
    "\n",
    "called the Roothan equations.\n",
    "\n",
    "This is soolved self-consistently for orbital coefficient matrix $C$ and orbital energy eigenvalues $\\epsilon$"
   ]
  },
  {
   "cell_type": "markdown",
   "metadata": {},
   "source": [
    "The Fock matrix has elements $F_{\\mu\\nu}$ in the **atomic orbital basis** as :\n",
    "\n",
    "$$F_{\\mu\\nu} = H_{\\mu\\nu} + 2 (\\mu\\nu|\\lambda \\sigma)D_{\\lambda \\sigma} -  (\\mu\\lambda|\\nu \\sigma)D_{\\lambda \\sigma}$$\n",
    "\n",
    "where\n",
    "\n",
    "$$D_{\\lambda \\sigma} = C_{\\sigma i} C_{\\lambda i}$$\n",
    "\n",
    "Note $C$ is an $(N \\times M)$ matrix, where $N$ is no. of **atomic basis** fucntions and $M$ the number of molecular orbitals"
   ]
  },
  {
   "cell_type": "markdown",
   "metadata": {},
   "source": [
    "Note too that it is common to write Coulomb and Exchange matrices J and K, with elements (here square brackets denote their dependents on the density matrix!):\n",
    "\n",
    "$$J[D_{\\lambda \\sigma}]_{\\mu\\nu} = (\\mu\\nu|\\lambda \\sigma)D_{\\lambda \\sigma}$$\n",
    "\n",
    "$$K[D_{\\lambda \\sigma}]_{\\mu\\nu} = (\\mu\\lambda|\\nu \\sigma)D_{\\lambda \\sigma}$$\n",
    "\n",
    "The Fock matrix can therefore be found by:\n",
    "\n",
    "$$F = H + 2J -  K$$"
   ]
  },
  {
   "cell_type": "code",
   "execution_count": null,
   "metadata": {},
   "outputs": [],
   "source": []
  },
  {
   "cell_type": "markdown",
   "metadata": {},
   "source": [
    "# Manual Calculation!"
   ]
  },
  {
   "cell_type": "markdown",
   "metadata": {},
   "source": [
    "### 1. Define molecule in PySCF"
   ]
  },
  {
   "cell_type": "code",
   "execution_count": 2,
   "metadata": {},
   "outputs": [],
   "source": [
    "# geometry = \"\"\"\n",
    "# O\n",
    "# H 1 1.1\n",
    "# H 1 1.1 2 104\n",
    "# \"\"\"\n",
    "# # basis =  'cc-pvdz'\n",
    "# basis =  'STO-3G'"
   ]
  },
  {
   "cell_type": "code",
   "execution_count": 3,
   "metadata": {},
   "outputs": [],
   "source": [
    "geometry = \"\"\"\n",
    "H 0 0 0 \n",
    "H 0 0 0.74\n",
    "\"\"\"\n",
    "basis =  'STO-3G'"
   ]
  },
  {
   "cell_type": "code",
   "execution_count": 4,
   "metadata": {},
   "outputs": [
    {
     "data": {
      "text/plain": [
       "<pyscf.gto.mole.Mole at 0x7f72102a8b50>"
      ]
     },
     "execution_count": 4,
     "metadata": {},
     "output_type": "execute_result"
    }
   ],
   "source": [
    "\n",
    "\n",
    "full_system_mol = gto.Mole(atom= geometry,\n",
    "                      basis=basis,\n",
    "                       charge=0,\n",
    "                       #spin=0,\n",
    "                      )\n",
    "full_system_mol.build()"
   ]
  },
  {
   "cell_type": "code",
   "execution_count": 5,
   "metadata": {},
   "outputs": [
    {
     "data": {
      "text/plain": [
       "-1.1167593073964255"
      ]
     },
     "execution_count": 5,
     "metadata": {},
     "output_type": "execute_result"
    }
   ],
   "source": [
    "full_system_scf = scf.RHF(full_system_mol)\n",
    "full_system_scf.verbose=1\n",
    "full_system_scf.max_memory= 8_000\n",
    "full_system_scf.conv_tol = 1e-6\n",
    "\n",
    "E_HF_Pyscf = full_system_scf.kernel()\n",
    "E_HF_Pyscf"
   ]
  },
  {
   "cell_type": "markdown",
   "metadata": {},
   "source": [
    "### 2. Obtain MO coefficients and MO energies"
   ]
  },
  {
   "cell_type": "markdown",
   "metadata": {},
   "source": [
    "Remember that HF theroy give use optimized **spatial** molecular orbitals: $\\{ \\psi_{i} \\}$\n",
    "\n",
    "where:\n",
    "\n",
    "$$\\psi_{i} = \\sum_{\\mu=1}^{K} C_{\\mu i} \\phi_{mu}$$"
   ]
  },
  {
   "cell_type": "code",
   "execution_count": 6,
   "metadata": {},
   "outputs": [
    {
     "data": {
      "text/plain": [
       "array([[ 0.54884228,  1.21245192],\n",
       "       [ 0.54884228, -1.21245192]])"
      ]
     },
     "execution_count": 6,
     "metadata": {},
     "output_type": "execute_result"
    }
   ],
   "source": [
    "C = full_system_scf.mo_coeff \n",
    "\n",
    "C # columns are MOs!"
   ]
  },
  {
   "cell_type": "markdown",
   "metadata": {},
   "source": [
    "Next we want to convert our integrals over (spatial) AOs into MO (spatial) basis!"
   ]
  },
  {
   "cell_type": "markdown",
   "metadata": {},
   "source": [
    "$$(\\psi_{i} \\psi_{j}|\\psi_{k} \\psi_{l}) = \\sum_{\\mu} \\sum_{\\nu} \\sum_{\\lambda} \\sum_{\\sigma} C^{*}_{\\mu i} C_{\\nu j} C^{*}_{\\lambda k} C_{\\sigma l} (\\mu \\nu | \\lambda \\sigma )$$"
   ]
  },
  {
   "cell_type": "code",
   "execution_count": 7,
   "metadata": {},
   "outputs": [],
   "source": [
    "eri_ao = full_system_mol.intor('int2e') # 2e- electron repulsion integrals in AO basis <ij|kl>"
   ]
  },
  {
   "cell_type": "code",
   "execution_count": 8,
   "metadata": {},
   "outputs": [
    {
     "data": {
      "text/plain": [
       "(2, 2, 2, 2)"
      ]
     },
     "execution_count": 8,
     "metadata": {},
     "output_type": "execute_result"
    }
   ],
   "source": [
    "tmp = np.einsum('pi,pqrs->iqrs', C, eri_ao, optimize=True)\n",
    "tmp = np.einsum('qa,iqrs->iars', C, tmp, optimize=True)\n",
    "tmp = np.einsum('iars,rj->iajs', tmp, C, optimize=True)\n",
    "ERI_mo_basis = np.einsum('iajs,sb->iajb', tmp, C, optimize=True)\n",
    "del tmp\n",
    "ERI_mo_basis.shape"
   ]
  },
  {
   "cell_type": "code",
   "execution_count": 9,
   "metadata": {},
   "outputs": [
    {
     "data": {
      "text/plain": [
       "True"
      ]
     },
     "execution_count": 9,
     "metadata": {},
     "output_type": "execute_result"
    }
   ],
   "source": [
    "## PYSCF CHECK\n",
    "\n",
    "pyscf_mo_ints = ao2mo.kernel(full_system_mol, full_system_scf.mo_coeff)#, aosym=1)\n",
    "\n",
    "# Convert the 2e integrals (in Chemist’s notation) \n",
    "pyscf_mo_ints = ao2mo.restore(1, pyscf_mo_ints, full_system_mol.nao)\n",
    "\n",
    "\n",
    "# pyscf_mo_ints = pyscf_mo_ints.transpose(0,2,3,1) #<- converts to physists notation if needed\n",
    "pyscf_mo_ints.shape\n",
    "np.allclose(ERI_mo_basis, pyscf_mo_ints)"
   ]
  },
  {
   "cell_type": "markdown",
   "metadata": {},
   "source": [
    "Currently we have converted AO-basis integrals into spatial-MO basis integrals!\n",
    "\n",
    "BUT we would also like this in the spin-orbital basis!"
   ]
  },
  {
   "cell_type": "code",
   "execution_count": 10,
   "metadata": {},
   "outputs": [],
   "source": [
    "# IMPORTANT we can order spins in different ways!\n",
    "\n",
    "# here we order as spin_up, spin_down alternating (but could do all spin up followed by all spin down)!"
   ]
  },
  {
   "cell_type": "code",
   "execution_count": 11,
   "metadata": {},
   "outputs": [
    {
     "data": {
      "text/plain": [
       "(64,)"
      ]
     },
     "execution_count": 11,
     "metadata": {},
     "output_type": "execute_result"
    }
   ],
   "source": [
    "n_spatial_orbs = full_system_scf.mol.nao\n",
    "n_spin_orbs = 2* n_spatial_orbs\n",
    "ERI_mo_basis_spin = np.zeros((n_spin_orbs,n_spin_orbs,n_spin_orbs,n_spin_orbs))\n",
    "\n",
    "##\n",
    "for p in range(n_spatial_orbs):\n",
    "    for q in range(n_spatial_orbs):\n",
    "        for r in range(n_spatial_orbs):\n",
    "            for s in range(n_spatial_orbs):\n",
    "               \n",
    "                AO_term = ERI_mo_basis[p,q,r,s] \n",
    "                # up,up,up,up \n",
    "                ERI_mo_basis_spin[2*p,2*q,2*r,2*s] = AO_term\n",
    "                # down,down, down, down\n",
    "                ERI_mo_basis_spin[2*p+1,2*q+1,2*r+1,2*s+1] = AO_term\n",
    "                \n",
    "                #  up up down down\n",
    "                ERI_mo_basis_spin[2*p,2*q,2*r+1,2*s+1] =  AO_term\n",
    "                # down down up up \n",
    "                ERI_mo_basis_spin[2*p+1,2*q+1,2*r,2*s] =  AO_term\n",
    "                \n",
    "                # other mixed terms go to zero!\n",
    "                # see Szabo eq 2.165 pg 82\n",
    "\n",
    "ERI_mo_basis_spin.nonzero()[0].shape"
   ]
  },
  {
   "cell_type": "code",
   "execution_count": null,
   "metadata": {},
   "outputs": [],
   "source": []
  },
  {
   "cell_type": "code",
   "execution_count": 12,
   "metadata": {},
   "outputs": [
    {
     "data": {
      "text/plain": [
       "(2, 2)"
      ]
     },
     "execution_count": 12,
     "metadata": {},
     "output_type": "execute_result"
    }
   ],
   "source": [
    "# need to do the same for one body terms\n",
    "H_core_AO = full_system_scf.get_hcore()\n",
    "h_core_spatial_basis =  C.conj().T @ H_core_AO @ C # <psi H psi> # NOT FOCK\n",
    "h_core_spatial_basis.shape"
   ]
  },
  {
   "cell_type": "code",
   "execution_count": 13,
   "metadata": {},
   "outputs": [
    {
     "data": {
      "text/plain": [
       "array([[-1.253,  0.   ,  0.   ,  0.   ],\n",
       "       [ 0.   , -1.253,  0.   ,  0.   ],\n",
       "       [-0.   ,  0.   , -0.475,  0.   ],\n",
       "       [ 0.   , -0.   ,  0.   , -0.475]])"
      ]
     },
     "execution_count": 13,
     "metadata": {},
     "output_type": "execute_result"
    }
   ],
   "source": [
    "# convert to MO spin basis\n",
    "h_core_mo_basis_spin = np.zeros((n_spin_orbs, n_spin_orbs))\n",
    "for p in range(n_spatial_orbs):\n",
    "    for q in range(n_spatial_orbs):\n",
    "        \n",
    "        # populate 1-body terms (must have same spin, otherwise orthogonal)\n",
    "        ## pg 82 Szabo\n",
    "        h_core_mo_basis_spin[2*p, 2*q] = h_core_spatial_basis[p,q] # spin UP\n",
    "        h_core_mo_basis_spin[(2*p + 1), (2*q +1)] = h_core_spatial_basis[p,q] # spin DOWN\n",
    "        \n",
    "np.around(h_core_mo_basis_spin,3)"
   ]
  },
  {
   "cell_type": "code",
   "execution_count": 14,
   "metadata": {},
   "outputs": [
    {
     "data": {
      "text/plain": [
       "array([[-1.253,  0.   ],\n",
       "       [-0.   , -0.475]])"
      ]
     },
     "execution_count": 14,
     "metadata": {},
     "output_type": "execute_result"
    }
   ],
   "source": [
    "np.around(C.conj().T @ full_system_scf.get_hcore() @ C , 3) # should be doubled version of this!"
   ]
  },
  {
   "cell_type": "code",
   "execution_count": null,
   "metadata": {},
   "outputs": [],
   "source": []
  },
  {
   "cell_type": "code",
   "execution_count": null,
   "metadata": {},
   "outputs": [],
   "source": []
  },
  {
   "cell_type": "markdown",
   "metadata": {},
   "source": [
    "test --> Lets build fock spin matrix\n",
    "\n",
    "(szabo pg 68 for ket notation!) note chemist vs physist rules!\n",
    "\n",
    "$$f_{pq} = h_{pq} + \\sum_{m}^{occ} \\langle pm || qm \\rangle = h_{pq} +\\sum_{m}^{occ} \\big( \\langle pm | qm \\rangle  - \\langle pm| \\underbrace{mq}_{order} \\rangle  \\big) = h_{pq} +\\sum_{m}^{occ} \\big( [ pq | mm ]  - [ pm| mq ]  \\big) $$  "
   ]
  },
  {
   "cell_type": "code",
   "execution_count": 21,
   "metadata": {},
   "outputs": [
    {
     "data": {
      "text/plain": [
       "array([[-0.579,  0.   , -0.   ,  0.   ],\n",
       "       [ 0.   , -0.579,  0.   , -0.   ],\n",
       "       [ 0.   ,  0.   ,  0.671,  0.   ],\n",
       "       [ 0.   ,  0.   ,  0.   ,  0.671]])"
      ]
     },
     "execution_count": 21,
     "metadata": {},
     "output_type": "execute_result"
    }
   ],
   "source": [
    "## test. Lets build fock spin matrix\n",
    "\n",
    "# Fock_spin_mo = np.zeros((n_spin_orbs, n_spin_orbs))\n",
    "\n",
    "n_electrons = full_system_scf.mol.nelectron\n",
    "\n",
    "# note this is in chemist notation (look at slices!)\n",
    "\n",
    "pm_qm = np.einsum('pqmm->pq', ERI_mo_basis_spin[:            ,   :,\n",
    "                                                :n_electrons ,   :n_electrons])\n",
    "pm_mq = np.einsum('pmmq->pq', ERI_mo_basis_spin[:            ,   :n_electrons,\n",
    "                                                :n_electrons ,    :])\n",
    "\n",
    "Fock_spin_mo = h_core_mo_basis_spin + (pm_qm - pm_mq)\n",
    "\n",
    "np.around(Fock_spin_mo, 3)"
   ]
  },
  {
   "cell_type": "code",
   "execution_count": 22,
   "metadata": {},
   "outputs": [
    {
     "data": {
      "text/plain": [
       "array([[-0.579,  0.   ],\n",
       "       [ 0.   ,  0.671]])"
      ]
     },
     "execution_count": 22,
     "metadata": {},
     "output_type": "execute_result"
    }
   ],
   "source": [
    "np.around(C.conj().T @ full_system_scf.get_fock() @ C , 3) # again should be doubled version of this!"
   ]
  },
  {
   "cell_type": "code",
   "execution_count": 23,
   "metadata": {},
   "outputs": [
    {
     "data": {
      "text/plain": [
       "array([-0.57855386,  0.67114349])"
      ]
     },
     "execution_count": 23,
     "metadata": {},
     "output_type": "execute_result"
    }
   ],
   "source": [
    "full_system_scf.mo_energy"
   ]
  },
  {
   "cell_type": "code",
   "execution_count": 18,
   "metadata": {},
   "outputs": [],
   "source": [
    "# diagonal enteries of Fock_spin_mo are energies of orbitals!"
   ]
  },
  {
   "cell_type": "code",
   "execution_count": 19,
   "metadata": {},
   "outputs": [
    {
     "ename": "NameError",
     "evalue": "name 'asdf' is not defined",
     "output_type": "error",
     "traceback": [
      "\u001b[0;31m---------------------------------------------------------------------------\u001b[0m",
      "\u001b[0;31mNameError\u001b[0m                                 Traceback (most recent call last)",
      "Input \u001b[0;32mIn [19]\u001b[0m, in \u001b[0;36m<cell line: 1>\u001b[0;34m()\u001b[0m\n\u001b[0;32m----> 1\u001b[0m \u001b[43masdf\u001b[49m\n",
      "\u001b[0;31mNameError\u001b[0m: name 'asdf' is not defined"
     ]
    }
   ],
   "source": [
    "asdf"
   ]
  },
  {
   "cell_type": "code",
   "execution_count": null,
   "metadata": {},
   "outputs": [],
   "source": []
  },
  {
   "cell_type": "markdown",
   "metadata": {},
   "source": [
    "# MP2"
   ]
  },
  {
   "cell_type": "code",
   "execution_count": 69,
   "metadata": {},
   "outputs": [
    {
     "data": {
      "text/plain": [
       "-1.1298973809859585"
      ]
     },
     "execution_count": 69,
     "metadata": {},
     "output_type": "execute_result"
    }
   ],
   "source": [
    "from pyscf import mp\n",
    "\n",
    "pyscf_mp2 = mp.MP2(full_system_scf)\n",
    "pyscf_mp2.verbose = 0\n",
    "pyscf_mp2.run()\n",
    "pyscf_mp2.e_tot"
   ]
  },
  {
   "cell_type": "code",
   "execution_count": 99,
   "metadata": {},
   "outputs": [
    {
     "data": {
      "text/plain": [
       "-0.013138073589533006"
      ]
     },
     "execution_count": 99,
     "metadata": {},
     "output_type": "execute_result"
    }
   ],
   "source": [
    "pyscf_mp2.e_tot - pyscf_mp2.e_hf #  + full_system_scf.energy_nuc()"
   ]
  },
  {
   "cell_type": "code",
   "execution_count": 100,
   "metadata": {},
   "outputs": [
    {
     "data": {
      "text/plain": [
       "-0.013138073589532983"
      ]
     },
     "execution_count": 100,
     "metadata": {},
     "output_type": "execute_result"
    }
   ],
   "source": [
    "pyscf_mp2.emp2"
   ]
  },
  {
   "cell_type": "code",
   "execution_count": 70,
   "metadata": {},
   "outputs": [
    {
     "data": {
      "text/plain": [
       "NPArrayWithTag([[[[ 0.        ,  0.        ],\n",
       "                  [ 0.        ,  0.        ]],\n",
       "\n",
       "                 [[ 0.        , -0.07250174],\n",
       "                  [ 0.07250174,  0.        ]]],\n",
       "\n",
       "\n",
       "                [[[ 0.        ,  0.07250174],\n",
       "                  [-0.07250174,  0.        ]],\n",
       "\n",
       "                 [[ 0.        ,  0.        ],\n",
       "                  [ 0.        ,  0.        ]]]])"
      ]
     },
     "execution_count": 70,
     "metadata": {},
     "output_type": "execute_result"
    }
   ],
   "source": [
    "from pyscf.cc.addons import spatial2spin\n",
    "\n",
    "T2_amps = spatial2spin(pyscf_mp2.t2)\n",
    "T2_amps"
   ]
  },
  {
   "cell_type": "markdown",
   "metadata": {},
   "source": [
    "# MP2  Energy and Amps\n",
    "\n",
    "$$E_{MP2} = \\frac{1}{4} \\sum_{ij}^{occ} \\sum_{ab}^{virt} t_{ijab}\\: \\langle ij || ab \\rangle  $$\n",
    "\n",
    "\n",
    "$$t_{ijab} = \\frac{\\langle ij || ab \\rangle}{e_{i}+e_{i}-e_{a}-e_{b}} = \\frac{ \\langle ij | ab \\rangle  - \\langle ij| ba \\rangle   }{e_{i}+e_{i}-e_{a}-e_{b}}$$\n",
    "\n",
    "and in chemist notation:\n",
    "\n",
    "\n",
    "$$t_{ijab} = \\frac{  [ ia | jb ]  -[ ib| ja ]) }{e_{i}+e_{i}-e_{a}-e_{b}}$$\n",
    "\n"
   ]
  },
  {
   "cell_type": "code",
   "execution_count": null,
   "metadata": {},
   "outputs": [],
   "source": []
  },
  {
   "cell_type": "markdown",
   "metadata": {},
   "source": [
    "However for **CLOSED shell calculations the formula is different**:\n",
    "\n",
    "\n",
    "$$E_{MP2} =  \\frac{1}{4} \\sum_{ij}^{occ} \\sum_{ab}^{virt} \\frac{ \\langle ia | jb \\rangle \\Big( 2\\langle ia | jb \\rangle - \\langle ib | ja \\rangle \\Big) }{e_{i}+e_{i}-e_{a}-e_{b}}$$\n",
    "\n",
    "$$E_{MP2} =  \\frac{1}{4} \\sum_{ij}^{occ} \\sum_{ab}^{virt} \\frac{ [ij | ab ] \\Big( 2 [ ij | ab ] - [ ij | ba ] \\Big) }{e_{i}+e_{i}-e_{a}-e_{b}} $$"
   ]
  },
  {
   "cell_type": "code",
   "execution_count": null,
   "metadata": {},
   "outputs": [],
   "source": []
  },
  {
   "cell_type": "code",
   "execution_count": 131,
   "metadata": {},
   "outputs": [],
   "source": [
    "e_orbs_occ =  np.diag(Fock_spin_mo)[:n_electrons]\n",
    "\n",
    "e_i = e_orbs_occ.reshape(-1, 1, 1, 1)\n",
    "e_j = e_orbs_occ.reshape(1, -1, 1, 1)\n",
    "\n",
    "e_orbs_vir = np.diag(Fock_spin_mo)[n_electrons:]\n",
    "e_a = e_orbs_vir.reshape(1, 1, -1, 1)\n",
    "e_b = e_orbs_vir.reshape(1, 1, 1, -1)\n",
    "\n",
    "# abgij = g[nocc:, nocc:, :nocc, :nocc]"
   ]
  },
  {
   "cell_type": "code",
   "execution_count": null,
   "metadata": {},
   "outputs": [],
   "source": []
  },
  {
   "cell_type": "code",
   "execution_count": 133,
   "metadata": {},
   "outputs": [
    {
     "data": {
      "text/plain": [
       "-0.17624780258503414"
      ]
     },
     "execution_count": 133,
     "metadata": {},
     "output_type": "execute_result"
    }
   ],
   "source": [
    "# note how ij_ab == ij_ba in CLOSED shell calcs\n",
    "ij_ab = ERI_mo_basis_spin[:n_electrons, :n_electrons, \n",
    "                          n_electrons:, n_electrons:]\n",
    "\n",
    "\n",
    "ij_ab_squared = ij_ab@ij_ab\n",
    "\n",
    "fraction = ij_ab_squared * (1.0 / (e_i + e_j - e_a - e_b) )\n",
    "\n",
    "E_mp2 = 0.25 * np.einsum('ijab->', fraction)\n",
    "E_mp2"
   ]
  },
  {
   "cell_type": "code",
   "execution_count": 134,
   "metadata": {},
   "outputs": [
    {
     "data": {
      "text/plain": [
       "array([[[[-0.07250174, -0.        ],\n",
       "         [-0.        , -0.07250174]],\n",
       "\n",
       "        [[-0.        , -0.        ],\n",
       "         [-0.        , -0.        ]]],\n",
       "\n",
       "\n",
       "       [[[-0.        , -0.        ],\n",
       "         [-0.        , -0.        ]],\n",
       "\n",
       "        [[-0.07250174, -0.        ],\n",
       "         [-0.        , -0.07250174]]]])"
      ]
     },
     "execution_count": 134,
     "metadata": {},
     "output_type": "execute_result"
    }
   ],
   "source": [
    "(ibja) * 1.0 / (e_i + e_j - e_a - e_b)"
   ]
  },
  {
   "cell_type": "code",
   "execution_count": null,
   "metadata": {},
   "outputs": [],
   "source": []
  },
  {
   "cell_type": "code",
   "execution_count": 52,
   "metadata": {},
   "outputs": [
    {
     "data": {
      "text/plain": [
       "array([[[[0., 0.],\n",
       "         [0., 0.]],\n",
       "\n",
       "        [[0., 0.],\n",
       "         [0., 0.]]],\n",
       "\n",
       "\n",
       "       [[[0., 0.],\n",
       "         [0., 0.]],\n",
       "\n",
       "        [[0., 0.],\n",
       "         [0., 0.]]]])"
      ]
     },
     "execution_count": 52,
     "metadata": {},
     "output_type": "execute_result"
    }
   ],
   "source": [
    "iajb = ERI_mo_basis_spin[:n_electrons, n_electrons:, \n",
    "                         :n_electrons, n_electrons:]\n",
    "\n",
    "ibja = ERI_mo_basis_spin[:n_electrons, n_electrons:, \n",
    "                         :n_electrons, n_electrons:]\n",
    "\n",
    "iajb-ibja"
   ]
  },
  {
   "cell_type": "code",
   "execution_count": null,
   "metadata": {},
   "outputs": [],
   "source": []
  },
  {
   "cell_type": "code",
   "execution_count": 24,
   "metadata": {},
   "outputs": [
    {
     "data": {
      "text/plain": [
       "array([[[[0., 0.],\n",
       "         [0., 0.]],\n",
       "\n",
       "        [[0., 0.],\n",
       "         [0., 0.]]],\n",
       "\n",
       "\n",
       "       [[[0., 0.],\n",
       "         [0., 0.]],\n",
       "\n",
       "        [[0., 0.],\n",
       "         [0., 0.]]]])"
      ]
     },
     "execution_count": 24,
     "metadata": {},
     "output_type": "execute_result"
    }
   ],
   "source": [
    "aibj = ERI_mo_basis_spin[n_electrons:, :n_electrons, \n",
    "                         n_electrons:, :n_electrons]\n",
    "\n",
    "ajbi = ERI_mo_basis_spin[n_electrons:, :n_electrons, \n",
    "                         n_electrons:, :n_electrons]\n",
    "\n",
    "aibj-ajbi"
   ]
  },
  {
   "cell_type": "code",
   "execution_count": null,
   "metadata": {},
   "outputs": [],
   "source": []
  },
  {
   "cell_type": "code",
   "execution_count": 33,
   "metadata": {},
   "outputs": [],
   "source": [
    "orb_energies = np.diag(Fock_spin_mo)\n",
    "e_orbs_occ =  orb_energies[:n_electrons]\n",
    "\n",
    "e_i = e_orbs_occ.reshape(1, 1, -1, 1)\n",
    "e_j = e_orbs_occ.reshape(1, 1, 1, -1)\n",
    "\n",
    "e_orbs_vir = orb_energies[n_electrons:]\n",
    "e_a = e_orbs_vir.reshape(-1, 1, 1, 1)\n",
    "e_b = e_orbs_vir.reshape(1, -1, 1, 1)"
   ]
  },
  {
   "cell_type": "code",
   "execution_count": 35,
   "metadata": {},
   "outputs": [
    {
     "data": {
      "text/plain": [
       "array([[[[-0.26554885, -0.        ],\n",
       "         [-0.        , -0.26554885]],\n",
       "\n",
       "        [[-0.        , -0.        ],\n",
       "         [-0.        , -0.        ]]],\n",
       "\n",
       "\n",
       "       [[[-0.        , -0.        ],\n",
       "         [-0.        , -0.        ]],\n",
       "\n",
       "        [[-0.26554885, -0.        ],\n",
       "         [-0.        , -0.26554885]]]])"
      ]
     },
     "execution_count": 35,
     "metadata": {},
     "output_type": "execute_result"
    }
   ],
   "source": [
    "a_abji =ERI_mo_basis_spin[n_electrons:, n_electrons:, \n",
    "                          :n_electrons, :n_electrons]\n",
    "amplitudes = a_abji * 1.0 / (e_i + e_j - e_a - e_b)\n",
    "\n",
    "amplitudes"
   ]
  },
  {
   "cell_type": "code",
   "execution_count": 38,
   "metadata": {},
   "outputs": [
    {
     "data": {
      "text/plain": [
       "0.0"
      ]
     },
     "execution_count": 38,
     "metadata": {},
     "output_type": "execute_result"
    }
   ],
   "source": [
    "E = np.einsum('abij,abij->', amplitudes, a_abji) - np.einsum('abji,abij', amplitudes, a_abji,\n",
    "                                                                        optimize='greedy')\n",
    "E"
   ]
  },
  {
   "cell_type": "code",
   "execution_count": null,
   "metadata": {},
   "outputs": [],
   "source": []
  },
  {
   "cell_type": "code",
   "execution_count": 28,
   "metadata": {},
   "outputs": [],
   "source": [
    "# one_body_integrals = H_ferm._one_body_integrals\n",
    "# two_body_integrals = H_ferm._two_body_integrals\n",
    "\n",
    "# g = two_body_integrals\n",
    "\n",
    "e_orbs_occ =  np.diag(Fock_spin_mo)[:n_electrons]\n",
    "\n",
    "e_i = e_orbs_occ.reshape(1, 1, -1, 1)\n",
    "e_j = e_orbs_occ.reshape(1, 1, 1, -1)\n",
    "\n",
    "e_orbs_vir = np.diag(Fock_spin_mo)[n_electrons:]\n",
    "e_a = e_orbs_vir.reshape(-1, 1, 1, 1)\n",
    "e_b = e_orbs_vir.reshape(1, -1, 1, 1)\n",
    "\n",
    "# abgij = g[nocc:, nocc:, :nocc, :nocc]\n"
   ]
  },
  {
   "cell_type": "code",
   "execution_count": 31,
   "metadata": {},
   "outputs": [
    {
     "data": {
      "text/plain": [
       "array([-0.57855386, -0.57855386])"
      ]
     },
     "execution_count": 31,
     "metadata": {},
     "output_type": "execute_result"
    }
   ],
   "source": [
    "e_orbs_vir = fij[nocc:]\n",
    "e_a = e_orbs_vir.reshape(-1, 1, 1, 1)\n",
    "e_b = e_orbs_vir.reshape(1, -1, 1, 1)\n",
    "\n",
    "abgij = g[nocc:, nocc:, :nocc, :nocc]\n",
    "amplitudes = abgij * 1.0 / (e_i + e_j - e_a - e_b)\n",
    "E = 2.0 * np.einsum('abij,abij->', amplitudes, abgij) - np.einsum('abji,abij', amplitudes, abgij,\n",
    "                                                                        optimize='greedy')\n",
    "\n",
    "E"
   ]
  },
  {
   "cell_type": "code",
   "execution_count": null,
   "metadata": {},
   "outputs": [],
   "source": [
    "asdfasd"
   ]
  },
  {
   "cell_type": "code",
   "execution_count": null,
   "metadata": {},
   "outputs": [],
   "source": []
  },
  {
   "cell_type": "code",
   "execution_count": null,
   "metadata": {},
   "outputs": [],
   "source": []
  },
  {
   "cell_type": "code",
   "execution_count": null,
   "metadata": {},
   "outputs": [],
   "source": []
  },
  {
   "cell_type": "code",
   "execution_count": 68,
   "metadata": {},
   "outputs": [
    {
     "data": {
      "text/plain": [
       "array([[[[0., 0.],\n",
       "         [0., 0.]],\n",
       "\n",
       "        [[0., 0.],\n",
       "         [0., 0.]]],\n",
       "\n",
       "\n",
       "       [[[0., 0.],\n",
       "         [0., 0.]],\n",
       "\n",
       "        [[0., 0.],\n",
       "         [0., 0.]]]])"
      ]
     },
     "execution_count": 68,
     "metadata": {},
     "output_type": "execute_result"
    }
   ],
   "source": [
    "phys_ints = ERI_mo_basis_spin.transpose(0,2,3,1) #<- converts to physists notation if needed\n",
    "\n",
    "ij_ab = phys_ints[:n_electrons, :n_electrons, n_electrons:, n_electrons:]\n",
    "ij_ba = phys_ints[:n_electrons, :n_electrons, n_electrons:, n_electrons:]\n",
    "\n",
    "ij_ab - ij_ba"
   ]
  },
  {
   "cell_type": "code",
   "execution_count": null,
   "metadata": {},
   "outputs": [],
   "source": []
  },
  {
   "cell_type": "code",
   "execution_count": null,
   "metadata": {},
   "outputs": [],
   "source": []
  },
  {
   "cell_type": "code",
   "execution_count": null,
   "metadata": {},
   "outputs": [],
   "source": []
  },
  {
   "cell_type": "code",
   "execution_count": null,
   "metadata": {},
   "outputs": [],
   "source": []
  },
  {
   "cell_type": "code",
   "execution_count": null,
   "metadata": {},
   "outputs": [],
   "source": []
  },
  {
   "cell_type": "code",
   "execution_count": null,
   "metadata": {},
   "outputs": [],
   "source": []
  },
  {
   "cell_type": "code",
   "execution_count": null,
   "metadata": {},
   "outputs": [],
   "source": []
  },
  {
   "cell_type": "code",
   "execution_count": null,
   "metadata": {},
   "outputs": [],
   "source": []
  },
  {
   "cell_type": "code",
   "execution_count": null,
   "metadata": {},
   "outputs": [],
   "source": []
  },
  {
   "cell_type": "code",
   "execution_count": null,
   "metadata": {},
   "outputs": [],
   "source": []
  },
  {
   "cell_type": "code",
   "execution_count": null,
   "metadata": {},
   "outputs": [],
   "source": [
    "n_qubits = 2*hcore_ij.shape[0]\n",
    "\n",
    "one_body_terms = np.zeros((n_qubits, n_qubits))\n",
    "two_body_terms = np.zeros((n_qubits, n_qubits, n_qubits, n_qubits))\n",
    "\n",
    "for p in range(n_qubits//2):\n",
    "    for q in range(n_qubits//2):\n",
    "        \n",
    "        # populate 1-body terms (must have same spin, otherwise orthogonal)\n",
    "        ## pg 82 Szabo\n",
    "        one_body_terms[2*p, 2*q] = hcore_ij[p,q] # spin UP\n",
    "        one_body_terms[(2*p + 1), (2*q +1)] = hcore_ij[p,q] # spin DOWN\n",
    "        \n",
    "        # continue 2-body terms\n",
    "        for r in range(n_qubits//2):\n",
    "            for s in range(n_qubits//2):\n",
    "                                \n",
    "                ### SAME spin                \n",
    "                two_body_terms[2*p, 2*q , 2*r, 2*s] = ERI_mo_basis[p,q,r,s] # up up up up\n",
    "                two_body_terms[(2*p+1), (2*q +1) , (2*r + 1), (2*s +1)] = ERI_mo_basis[p,q,r,s] # down down down down\n",
    "                \n",
    "                ### mixed spin                \n",
    "                two_body_terms[2*p, 2*q , (2*r + 1), (2*s +1)] = ERI_mo_basis[p,q,r,s] # up up down down\n",
    "                two_body_terms[(2*p+1), (2*q +1) , 2*r, 2*s] = ERI_mo_basis[p,q,r,s] # down down up up \n",
    "               \n",
    "                # other mixed terms go to zero!\n",
    "                # see Szabo eq 2.165 pg 82\n",
    "                \n",
    "                \n",
    "                \n",
    "### remove vanishing terms\n",
    "EQ_Tolerance=1e-8\n",
    "one_body_terms[np.abs(one_body_terms)<EQ_Tolerance]=0\n",
    "two_body_terms[np.abs(two_body_terms)<EQ_Tolerance]=0"
   ]
  },
  {
   "cell_type": "code",
   "execution_count": null,
   "metadata": {},
   "outputs": [],
   "source": []
  },
  {
   "cell_type": "code",
   "execution_count": null,
   "metadata": {},
   "outputs": [],
   "source": []
  },
  {
   "cell_type": "code",
   "execution_count": null,
   "metadata": {},
   "outputs": [],
   "source": []
  },
  {
   "cell_type": "code",
   "execution_count": null,
   "metadata": {},
   "outputs": [],
   "source": []
  },
  {
   "cell_type": "code",
   "execution_count": null,
   "metadata": {},
   "outputs": [],
   "source": []
  },
  {
   "cell_type": "code",
   "execution_count": null,
   "metadata": {},
   "outputs": [],
   "source": [
    "S = full_system_mol.intor('int1e_ovlp') # 1e- electron overlap <i|j>\n",
    "\n",
    "eri_ao = full_system_mol.intor('int2e') # 2e- electron repulsion integrals in AO basis <ij|kl>"
   ]
  },
  {
   "cell_type": "code",
   "execution_count": null,
   "metadata": {},
   "outputs": [],
   "source": [
    "n_docc = full_system_mol.nelectron // 2 # number of double occupied orbitals\n",
    "n_bas_ft = full_system_mol.nao\n",
    "\n",
    "print(f'Number of occupied orbitals:{n_docc:4.0f}')\n",
    "print(f'Number of basis functions: {n_bas_ft:6.0f}')"
   ]
  },
  {
   "cell_type": "code",
   "execution_count": null,
   "metadata": {},
   "outputs": [],
   "source": []
  },
  {
   "cell_type": "markdown",
   "metadata": {},
   "source": [
    "### 3. Build Core Hamiltonian"
   ]
  },
  {
   "cell_type": "code",
   "execution_count": null,
   "metadata": {},
   "outputs": [],
   "source": [
    "T = full_system_mol.intor('int1e_kin')\n",
    "V = full_system_mol.intor('int1e_nuc')\n",
    "\n",
    "H_core = T+V"
   ]
  },
  {
   "cell_type": "code",
   "execution_count": null,
   "metadata": {},
   "outputs": [],
   "source": [
    "# check H_core calculated is the SAME!\n",
    "np.allclose(H_core, scf.hf.get_hcore(full_system_mol))"
   ]
  },
  {
   "cell_type": "markdown",
   "metadata": {},
   "source": [
    "### 4. Check roothan and S matrix"
   ]
  },
  {
   "cell_type": "markdown",
   "metadata": {},
   "source": [
    "We can solve:\n",
    "\n",
    "$$FC = S C \\epsilon$$\n",
    "\n",
    "if $S$ is the identity matrix... however:"
   ]
  },
  {
   "cell_type": "code",
   "execution_count": null,
   "metadata": {},
   "outputs": [],
   "source": [
    "test = np.allclose(S, np.eye(S.shape[0]))\n",
    "print(f'is S the identity matrix?: {test}')\n",
    "if test is False:\n",
    "    print()\n",
    "    print('AO basis is not orthonormal')"
   ]
  },
  {
   "cell_type": "markdown",
   "metadata": {},
   "source": [
    "Overall we cannot ignore the AO overlap matrix... $F$ cannot simply be diagonlized to solve for the orbital coefficent matrix!"
   ]
  },
  {
   "cell_type": "code",
   "execution_count": null,
   "metadata": {},
   "outputs": [],
   "source": []
  },
  {
   "cell_type": "markdown",
   "metadata": {},
   "source": [
    "LUCKILY: we can overcome this issue, by **transforming** the AO basis so that all the basis functions are orthonormal!\n",
    "\n",
    "aka we need a transform:\n",
    "\n",
    "$$U^{\\dagger} S U = \\mathcal{I}$$\n",
    "\n",
    "Clearly this makes S diagonal!"
   ]
  },
  {
   "cell_type": "code",
   "execution_count": null,
   "metadata": {},
   "outputs": [],
   "source": []
  },
  {
   "cell_type": "markdown",
   "metadata": {},
   "source": [
    "But how do we do this? (pg 143-144 Szabo and https://www.youtube.com/watch?v=2N104Nf-_L4)\n",
    "\n",
    "1. Symmetric orthogonalization\n",
    "    - uses the symmetric inverse square root of the overlap matrix\n",
    "    - $ U = S^{-\\frac{1}{2}}$\n",
    "\n",
    "as clearly:\n",
    "\n",
    "$$U^{\\dagger} S U = S^{-\\frac{1}{2}} S S^{-\\frac{1}{2}}  = S^{-\\frac{1}{2}} S^{+\\frac{1}{2}} = \\mathcal{I}$$\n",
    "\n",
    "**IMPORTANT numerical problems can occur if the overlap matrix has small eigenvalues, which may occur for large systems or for systems where diffuse basis sets are used**\n",
    "\n",
    "2. canonical orthogonalization\n",
    "    - uses the symmetric inverse square root of the overlap matrix and additional unitary $V$\n",
    "    - V is the unitary we use to diagonlize the matrix $S$\n",
    "        - we then truncate according to the eignvalues of $V$... for small terms there will be numerical problems so they are REMOVED (TRUNCATED)\n",
    "    - $ U = V S^{-\\frac{1}{2}}$\n",
    "    \n",
    "This numerical problem may be avoided by using canonical orthogonalization, in which an asymmetric inverse square root of the overlap matrix is formed, with numerical stability enhanced by the elimination of eigenvectors corresponding to very small eigenvalues. As a few combinations of AO basis functions may be discarded, the number of canonical-orthogonalized OSOs and MOs may be slightly smaller than the number of AOs.\n",
    "\n",
    "\n",
    "\n",
    "3. Cholesky decomposition\n",
    "\n",
    "When the basis set is too overcomplete, the eigendecomposition of the overlap matrix is no longer numerically stable. In this case the partial Cholesky decomposition can be used to pick a subset of basis functions that span a sufficiently complete set, see [Lehtola:2019:241102] and [Lehtola:2020:032504]. This subset can then be orthonormalized as usual; the rest of the basis functions are hidden from the calculation. The Cholesky approach allows reaching accurate energies even in the presence of significant linear dependencies [Lehtola:2020:04224].\n",
    "\n"
   ]
  },
  {
   "cell_type": "code",
   "execution_count": null,
   "metadata": {},
   "outputs": [],
   "source": []
  },
  {
   "cell_type": "markdown",
   "metadata": {},
   "source": [
    "### 5. Let us use Symmetrix orthogonalization"
   ]
  },
  {
   "cell_type": "code",
   "execution_count": null,
   "metadata": {},
   "outputs": [],
   "source": [
    "U = sp.linalg.fractional_matrix_power(S, -0.5)\n",
    "\n",
    "### check orthonormal condition\n",
    "\n",
    "S_prime = U @ S @ U\n",
    "print(f'is S_prime orthonormal: {np.allclose(S_prime, np.eye(S_prime.shape[0]))}')"
   ]
  },
  {
   "cell_type": "markdown",
   "metadata": {},
   "source": [
    "This is good, as we can now think about diagonalization!\n",
    "\n",
    "\n",
    "The drawback of this scheme is that we would now have to either re-compute the ERI and core Hamiltonian tensors in the newly orthogonal AO basis, or transform them using our $U$ matrix (both would be overly costly, especially transforming the ERI)"
   ]
  },
  {
   "cell_type": "code",
   "execution_count": null,
   "metadata": {},
   "outputs": [],
   "source": []
  },
  {
   "cell_type": "markdown",
   "metadata": {},
   "source": [
    "However we can directly subsitute $C = U C_{prime}$ into our Roothan equations!:\n",
    "\n",
    "$$FC = S C \\epsilon$$\n",
    "$$F U C_{prime} = S U C_{prime} \\epsilon$$\n",
    "\n",
    "now apply $U^{\\dagger}$ on both sides\n",
    "\n",
    "$$(U^{\\dagger}F U) C_{prime} = (U^{\\dagger} S U) C_{prime} \\epsilon$$\n",
    "$$F_{prime} C_{prime} = \\mathcal{I} C_{prime} \\epsilon$$\n",
    "\n",
    "$$F_{prime} C_{prime} = C_{prime} \\epsilon$$\n",
    "\n",
    "\n",
    "We have a standard eigenvalue equation now!!!\n",
    "\n",
    "We can solve for the transformed orbtial coefficient matrix $C_{prime}$ by diagonalizing the transformed Fock matrix $F_{prime}$...\n",
    "\n",
    "Then simply transform  $C_{prime}$ back to AO basis using  $C = U C_{prime}$  ( as started in the beginning)"
   ]
  },
  {
   "cell_type": "code",
   "execution_count": null,
   "metadata": {},
   "outputs": [],
   "source": []
  },
  {
   "cell_type": "markdown",
   "metadata": {},
   "source": [
    "### 6. But how do we start?\n",
    "\n",
    "In order to find the Fock matrix we need the orbital coefficient matrix $C$, but in order to compute $C$ we need $F$...\n",
    "\n",
    "$$F_{\\mu\\nu} = H_{\\mu\\nu} + 2 (\\mu\\nu|\\lambda \\sigma)C_{\\sigma i} C_{\\lambda i} -  (\\mu\\lambda|\\nu \\sigma)C_{\\sigma i} C_{\\lambda i}$$\n",
    "\n",
    "We don't know $F$ or $C$... to begin we therefore GUESS the Fock matrix to obtain an initial $C$ matrix\n",
    "\n",
    "Often a logical starting point to guessing the Fock matrix, is to start from the only part that doesn't depend on the $C$ matrix (as seen in the eq. above this is the Core Hamitlonian part!)\n",
    "\n",
    "1. start with $F = H_{core}$ (APPROXIMATION)\n",
    "2. Diagonalize transformed Fock matrix $U^{\\dagger}F U)$\n",
    "3. This gives initial C_prime\n",
    "4. transform back to AO basis"
   ]
  },
  {
   "cell_type": "code",
   "execution_count": null,
   "metadata": {},
   "outputs": [],
   "source": [
    "F_guess = H_core\n",
    "\n",
    "F_prime = U.conj().T @ H_core @ U\n",
    "\n",
    "epsilon, C_prime = np.linalg.eigh(F_prime)\n",
    "\n",
    "# transofrm C_prime back to AO basis\n",
    "C = U @ C_prime\n",
    "\n",
    "# get occupied orbitals\n",
    "C_occ = C[:, :n_docc]\n",
    "\n",
    "# build density matrix from occupied orbitals!\n",
    "D = C_occ @ C_occ.T\n",
    "# D = np.einsum('pi,qi->pq', C_occ, C_occ, optimize=True)"
   ]
  },
  {
   "cell_type": "code",
   "execution_count": null,
   "metadata": {},
   "outputs": [],
   "source": []
  },
  {
   "cell_type": "markdown",
   "metadata": {},
   "source": [
    "### 7. Perform SCF routine\n",
    "\n",
    "1. Build Fock matrix\n",
    "    - build coulomb matrix $J$\n",
    "    - build exchange matrix $K$  \n",
    "    - $F = H_{core} + 2J - K$\n",
    "2. Find RHF energy (Szabo pg 150 (pg 134 has similar eq BUT in MO basis!)\n",
    "\n",
    "$$E_{0} = \\frac{1}{2} \\sum_{\\mu} \\sum_{\\nu} D_{\\mu \\nu} (H_{core} + F_{\\mu \\nu})$$\n",
    "\n",
    "    - check convergence\n",
    "    - if true: Break\n",
    "    - else: go to 3.\n",
    "3. Compute new orbital guess\n",
    "    - Transform F to orthonormal AO basis\n",
    "    - Diagonalize F_prime to give epsilon and C_prime\n",
    "    - transform C_prime back to AO basis\n",
    "    - Get new Density matrix from occupied orbitals of C"
   ]
  },
  {
   "cell_type": "code",
   "execution_count": null,
   "metadata": {},
   "outputs": [],
   "source": [
    "#alg\n",
    "\n",
    "max_iter = 100\n",
    "\n",
    "HF_energy =0\n",
    "E_previous = 0\n",
    "E_tol = 1e-6\n",
    "\n",
    "for i in range(max_iter+1):\n",
    "    \n",
    "    # Build Fock Matrix\n",
    "    J_mat = np.einsum('mvls,ls -> mv', eri_ao, D, optimize=True)\n",
    "    K_mat = np.einsum('mlvs,ls -> mv', eri_ao, D, optimize=True)\n",
    "    \n",
    "    Fock = H_core + 2*J_mat - K_mat\n",
    "    \n",
    "    ### find RHF energy\n",
    "    HF_energy = np.einsum('pq,pq ->', D, (Fock+H_core), optimize=True) + full_system_mol.energy_nuc()\n",
    "#     HF_energy =np.trace(H_core @ D) + np.trace(Fock @ D) + full_system_mol.energy_nuc()\n",
    "    # (no 0.5 here as included in D mat natively!)\n",
    "    \n",
    "    ### check convergence\n",
    "    if np.abs(HF_energy-E_previous)<E_tol:\n",
    "        break\n",
    "        \n",
    "        \n",
    "    # if not convereged store old result\n",
    "    E_previous = HF_energy\n",
    "    \n",
    "    ## compute new orbital guess\n",
    "    F_prime = U.conj().T @ Fock @ U\n",
    "\n",
    "    epsilon, C_prime = np.linalg.eigh(F_prime)\n",
    "\n",
    "    # transofrm C_prime back to AO basis\n",
    "    C = U @ C_prime\n",
    "\n",
    "    # get occupied orbitals\n",
    "    C_occ = C[:, :n_docc]\n",
    "\n",
    "    # build density matrix from occupied orbitals!\n",
    "#     D = C_occ @ C_occ.T\n",
    "    D = np.einsum('pi,qi->pq', C_occ, C_occ, optimize=True)\n",
    "    \n",
    "    if i==max_iter:\n",
    "        raise ValueError('Maximum number of SCF iterations exceeded')\n",
    "        \n",
    "print(f'final RHF SCF energy {HF_energy}')"
   ]
  },
  {
   "cell_type": "code",
   "execution_count": null,
   "metadata": {},
   "outputs": [],
   "source": []
  },
  {
   "cell_type": "code",
   "execution_count": null,
   "metadata": {},
   "outputs": [],
   "source": [
    "##### check FC = SCe\n",
    "\n",
    "# Build Fock Matrix\n",
    "J_mat = np.einsum('mvls,ls -> mv', eri_ao, D, optimize=True)\n",
    "K_mat = np.einsum('mlvs,ls -> mv', eri_ao, D, optimize=True)\n",
    "\n",
    "Fock = H_core + 2*J_mat - K_mat\n",
    "\n",
    "np.allclose(Fock@C[:,0],epsilon[0]*(S@C)[:,0])"
   ]
  },
  {
   "cell_type": "code",
   "execution_count": null,
   "metadata": {},
   "outputs": [],
   "source": []
  },
  {
   "cell_type": "markdown",
   "metadata": {},
   "source": [
    "# Compare to PySCF result!"
   ]
  },
  {
   "cell_type": "code",
   "execution_count": null,
   "metadata": {},
   "outputs": [],
   "source": [
    "full_system_scf = scf.RHF(full_system_mol)\n",
    "full_system_scf.verbose=1\n",
    "full_system_scf.max_memory= 8_000\n",
    "full_system_scf.conv_tol = 1e-6\n",
    "\n",
    "E_HF_Pyscf = full_system_scf.kernel()"
   ]
  },
  {
   "cell_type": "code",
   "execution_count": null,
   "metadata": {},
   "outputs": [],
   "source": []
  },
  {
   "cell_type": "code",
   "execution_count": null,
   "metadata": {},
   "outputs": [],
   "source": [
    "print(f'difference in Results: {np.abs(E_HF_Pyscf - HF_energy) : 0.9f}')"
   ]
  },
  {
   "cell_type": "code",
   "execution_count": null,
   "metadata": {},
   "outputs": [],
   "source": []
  },
  {
   "cell_type": "code",
   "execution_count": null,
   "metadata": {},
   "outputs": [],
   "source": []
  },
  {
   "cell_type": "code",
   "execution_count": null,
   "metadata": {},
   "outputs": [],
   "source": []
  },
  {
   "cell_type": "code",
   "execution_count": null,
   "metadata": {},
   "outputs": [],
   "source": [
    "# Note certain properties!"
   ]
  },
  {
   "cell_type": "code",
   "execution_count": null,
   "metadata": {},
   "outputs": [],
   "source": [
    "# By definition cannonical HF MOs are eigenfucntions of the Fock operator\n",
    "\n",
    "# Build Fock Matrix in AO basis\n",
    "J_mat = np.einsum('mvls,ls -> mv', eri_ao, D, optimize=True)\n",
    "K_mat = np.einsum('mlvs,ls -> mv', eri_ao, D, optimize=True)\n",
    "Fock = H_core + 2*J_mat - K_mat\n",
    "\n",
    "# convert to MO basis\n",
    "F_MO =  C.conj().T @ Fock @ C\n",
    "# F_MO_2 = np.einsum('mi,vj, mv->ij', C.conj(), C, Fock, optimize=True)\n",
    "# print(np.allclose(F_MO, F_MO_2))\n",
    "\n",
    "\n",
    "\n",
    "np.around(F_MO, 4)  # should be diagonal, with orbital energies diagonals! see Szabo pg 165"
   ]
  },
  {
   "cell_type": "code",
   "execution_count": null,
   "metadata": {},
   "outputs": [],
   "source": [
    "epsilon"
   ]
  },
  {
   "cell_type": "code",
   "execution_count": null,
   "metadata": {},
   "outputs": [],
   "source": [
    "# check diagonals are orbital energies!\n",
    "np.allclose(np.diag(F_MO), epsilon)"
   ]
  },
  {
   "cell_type": "code",
   "execution_count": null,
   "metadata": {},
   "outputs": [],
   "source": []
  },
  {
   "cell_type": "markdown",
   "metadata": {},
   "source": [
    "# IMPORTANT notes\n",
    "\n",
    "PG 134 and 164 Szabo\n",
    "\n",
    "Remember that HF theroy give use optimized molecular orbitals: $\\{ \\psi_{i} \\}$\n",
    "\n",
    "where:\n",
    "\n",
    "$$\\psi_{i} = \\sum_{\\mu=1}^{K} C_{\\mu i} \\phi_{mu}$$\n",
    "\n",
    "- note the set $\\{ \\phi_{i}  | i = 1, 2 ... K\\}$ are the known basis functions!\n",
    "- H Fock gives us optimal $C$ matrix\n",
    "    - where columns of $C$ from HF calculation give the molecular orbitals!\n",
    "\n",
    "Note in Hfock calculation we use AO orbitals to find the energy (Szabo pg 141):\n",
    "\n",
    "$$F_{\\mu\\nu} = H_{\\mu\\nu} + 2 (\\mu\\nu|\\lambda \\sigma)C_{\\sigma i} C_{\\lambda i} -  (\\mu\\lambda|\\nu \\sigma)C_{\\sigma i} C_{\\lambda i}$$\n",
    "\n",
    "- where :\n",
    "    - $(\\mu\\lambda|\\nu \\sigma) = \\int d\\vec{r}_{1} d\\vec{r}_{2} \\phi^{*}_{\\mu}(1) \\phi_{\\nu}(1) \\frac{1}{r_{12}}  \\phi^{*}_{\\lambda}(2) \\phi_{\\sigma}(2)$\n",
    "    - aka both H_core and two electron integrals are found by **integrals over AO basis functions** ($\\{ \\phi_{i}  | i = 1, 2 ... K\\}$)!\n",
    "    \n",
    "However if we want to do post HF methods, we often write the solution to our problem using Slater determinants - that contain molecular orbitals (NOT atomic orbs)!\n",
    "\n",
    "$$| \\Psi^{HF}> = | \\psi_{1} \\bar{\\psi_{1}} \\: \\: \\psi_{2} \\bar{\\psi_{2}} \\: \\: ... \\: \\: \\psi_{N/2} \\bar{\\psi_{N/2}}>$$\n",
    "\n",
    "Therefore we need to convert to the MO basis!"
   ]
  },
  {
   "cell_type": "code",
   "execution_count": null,
   "metadata": {},
   "outputs": [],
   "source": []
  },
  {
   "cell_type": "markdown",
   "metadata": {},
   "source": [
    "Note $\\psi_{i}$ is a molecular orbital! (not atomic!)\n",
    "\n",
    "SO the 1e- integrals become:\n",
    "\n",
    "$$h_{ij} = (\\psi_{i} |h| \\psi_{j}) = \\sum_{\\mu} \\sum_{\\nu} C^{*}_{\\mu i} C_{\\nu j} H_{\\mu \\nu}^{\\text{core AO basis}}$$"
   ]
  },
  {
   "cell_type": "markdown",
   "metadata": {},
   "source": [
    "Szabo pg 150!\n",
    "\n",
    "\n",
    "$$<O_{1}> = <\\Psi_{i} |O_{1} |\\Psi_{i}> = \\sum_{a}^{N/2}  (\\psi_{a} |h| \\psi_{a}) =  \\sum_{\\mu}^{N/2} \\sum_{\\nu}^{N/2} C^{*}_{\\mu i} C_{\\nu j} H_{\\mu \\nu}^{\\text{core AO basis}}$$"
   ]
  },
  {
   "cell_type": "code",
   "execution_count": null,
   "metadata": {},
   "outputs": [],
   "source": [
    "# Szabo pg 150!\n",
    "\n",
    "hcore_ij =  C.conj().T @ H_core @ C # <psi H psi> # NOT FOCK\n",
    "# hcore_ij = np.einsum('mi,vj, mv->ij', C.conj(), C, H_core, optimize=True)\n",
    "\n",
    "AA = np.einsum('ii->', hcore_ij[:n_docc, :n_docc], optimize=True)\n",
    "BB = np.einsum('pq,pq ->', D, H_core, optimize=True)\n",
    "\n",
    "np.isclose(AA, BB)"
   ]
  },
  {
   "cell_type": "markdown",
   "metadata": {},
   "source": [
    "notice how MO basis is much easier to evaluate $<O_{1}>$... just use Slater rules (which turns out to be diagonal elements of hij)! "
   ]
  },
  {
   "cell_type": "code",
   "execution_count": null,
   "metadata": {},
   "outputs": [],
   "source": []
  },
  {
   "cell_type": "markdown",
   "metadata": {},
   "source": [
    "Note $\\psi_{i}$ is a molecular orbital! (not atomic!)\n",
    "\n",
    "SO the 2e- integrals become:\n",
    "\n",
    "$$(\\psi_{i} \\psi_{j}|\\psi_{k} \\psi_{l}) = \\sum_{\\mu} \\sum_{\\nu} \\sum_{\\lambda} \\sum_{\\sigma} C^{*}_{\\mu i} C_{\\nu j} C^{*}_{\\lambda k} C_{\\sigma l} (\\mu \\nu | \\lambda \\sigma )$$"
   ]
  },
  {
   "cell_type": "code",
   "execution_count": null,
   "metadata": {},
   "outputs": [],
   "source": []
  },
  {
   "cell_type": "code",
   "execution_count": null,
   "metadata": {},
   "outputs": [],
   "source": [
    "# transform 2e- ints to MO basis!\n",
    "\n",
    "# Cocc = C[:, :n_docc] # occupied\n",
    "# Cvirt = C[:, n_docc:] # unoccupied\n",
    "\n",
    "# tmp = np.einsum('pi,pqrs->iqrs', Cocc, eri_ao, optimize=True)\n",
    "# tmp = np.einsum('qa,iqrs->iars', Cvirt, tmp, optimize=True)\n",
    "# tmp = np.einsum('iars,rj->iajs', tmp, Cocc, optimize=True)\n",
    "# ERI_mo_basis = np.einsum('iajs,sb->iajb', tmp, Cvirt, optimize=True)\n",
    "# mo_ints.shape\n",
    "\n",
    "tmp = np.einsum('pi,pqrs->iqrs', C, eri_ao, optimize=True)\n",
    "tmp = np.einsum('qa,iqrs->iars', C, tmp, optimize=True)\n",
    "tmp = np.einsum('iars,rj->iajs', tmp, C, optimize=True)\n",
    "ERI_mo_basis = np.einsum('iajs,sb->iajb', tmp, C, optimize=True)\n",
    "del tmp\n",
    "ERI_mo_basis.shape"
   ]
  },
  {
   "cell_type": "code",
   "execution_count": null,
   "metadata": {},
   "outputs": [],
   "source": [
    "pyscf_mo_ints = ao2mo.kernel(full_system_mol, full_system_scf.mo_coeff)#, aosym=1)\n",
    "\n",
    "# Convert the 2e integrals (in Chemist’s notation) \n",
    "pyscf_mo_ints = ao2mo.restore(1, pyscf_mo_ints, n_bas_ft)\n",
    "\n",
    "\n",
    "# pyscf_mo_ints = pyscf_mo_ints.transpose(0,2,3,1) #<- converts to physists notation if needed\n",
    "pyscf_mo_ints.shape"
   ]
  },
  {
   "cell_type": "code",
   "execution_count": null,
   "metadata": {},
   "outputs": [],
   "source": []
  },
  {
   "cell_type": "markdown",
   "metadata": {},
   "source": [
    "This is 4D array for electron repulsion integrals in the MO representations...\n",
    "\n",
    "\n",
    "Such MO integrals are required for all electron correlation methods. The two-electron AO integrals are the most numerous and the above equation appears to involve a computational effect proportional to M^8 (M^4 AO integrals each multiplied by four sets of M basis MO coefficients). However, by performing the transformation one index at a time, the computational effort can be reduced to M^5.\n",
    "\n",
    "Each  step  now  only  involves  multiplication  of  M^4 basis integrals  with  M basis coefficients, i.e. the M^8 basis dependence is reduced to four M^5 operations. In the large basis set limit, all electron correlation methods formally scale as at least M 5basis, since this is the scaling for the AO to MO integral transformation. The transformation is an example of a “rotation” of the “coordinate” system consisting of the AOs, to one where the Fock operator is diagonal, the MOs (see Section 16.2). The diagonal system allows a much more compact representation  of  the  matrix  elements  needed  for  the  electron  correlation treatment. The coordinate change is also known as a four index transformation, since it involves four indices associated with the basis functions."
   ]
  },
  {
   "cell_type": "markdown",
   "metadata": {},
   "source": [
    "Szabo pg 84:\n",
    "\n",
    "$$E_{0}^{\\text{HF}} = 2 \\sum_{a}^{N/2} (\\psi_{a} |h^{core} | \\psi_{a}) + \\sum_{a}^{N/2} \\sum_{b}^{N/2} \\Big( 2(\\psi_{a} \\psi_{a}|\\psi_{b} \\psi_{b}) - (\\psi_{a} \\psi_{b}|\\psi_{b} \\psi_{a})\\Big)$$\n",
    "\n",
    "\n",
    "Szabo pg 85:\n",
    "\n",
    "- $J_{ab} = (\\psi_{a} \\psi_{a}|\\psi_{b} \\psi_{b}) = <\\psi_{a} \\psi_{b}|\\psi_{a} \\psi_{b}> $\n",
    "- $K_{ab} = (\\psi_{a} \\psi_{b}|\\psi_{b} \\psi_{a}) = <\\psi_{a} \\psi_{b}|\\psi_{b} \\psi_{a}> $\n",
    "\n",
    "$$E_{0}^{\\text{HF}} = 2 \\sum_{a}^{N/2} h^{core}_{aa} + \\sum_{a}^{N/2} \\sum_{b}^{N/2} \\Big( 2J_{ab} - K_{ab} \\Big)$$"
   ]
  },
  {
   "cell_type": "code",
   "execution_count": null,
   "metadata": {},
   "outputs": [],
   "source": [
    "## szabo pg 73! (eq 2.111) [may need eq 2.176 pg 84!]\n",
    "\n",
    "# hcore_ij =  C.conj().T @ H_core @ C # <psi H psi> # NOT FOCK\n",
    "# hcore_ij = np.einsum('mi,vj, mv->ij', C.conj(), C, H_core, optimize=True)\n",
    "\n",
    "E = 2*np.einsum('ii->', hcore_ij[:n_docc, :n_docc], optimize=True)\n",
    "\n",
    "two_J = 2*np.einsum('iijj->', pyscf_mo_ints[:n_docc, :n_docc, :n_docc, :n_docc], optimize=True)\n",
    "K = np.einsum('ijji->', pyscf_mo_ints[:n_docc, :n_docc, :n_docc, :n_docc], optimize=True)\n",
    "E+= (two_J-K)\n",
    "\n",
    "E+= full_system_mol.energy_nuc()\n",
    "\n",
    "E"
   ]
  },
  {
   "cell_type": "code",
   "execution_count": null,
   "metadata": {},
   "outputs": [],
   "source": [
    "np.abs(E_HF_Pyscf - E)"
   ]
  },
  {
   "cell_type": "code",
   "execution_count": null,
   "metadata": {},
   "outputs": [],
   "source": [
    "## szabo pg 73! (eq 2.111) [may need eq 2.176 pg 84!]\n",
    "\n",
    "hcore_ij =  C.conj().T @ H_core @ C # <psi H psi> # NOT FOCK\n",
    "\n",
    "E_manual_loop = 0\n",
    "for i in range(n_docc):\n",
    "    E_manual_loop+= 2*hcore_ij[i,i]\n",
    "\n",
    "for i in range(n_docc):\n",
    "    for j in range(n_docc):\n",
    "        E_manual_loop+= (2*pyscf_mo_ints[i,i,j,j] - pyscf_mo_ints[i,j,j,i])\n",
    "\n",
    "E_manual_loop+= full_system_mol.energy_nuc()\n",
    "E_manual_loop"
   ]
  },
  {
   "cell_type": "code",
   "execution_count": null,
   "metadata": {},
   "outputs": [],
   "source": [
    "np.abs(E_HF_Pyscf - E_manual_loop)"
   ]
  },
  {
   "cell_type": "code",
   "execution_count": null,
   "metadata": {},
   "outputs": [],
   "source": []
  },
  {
   "cell_type": "code",
   "execution_count": null,
   "metadata": {},
   "outputs": [],
   "source": []
  },
  {
   "cell_type": "markdown",
   "metadata": {},
   "source": [
    "# NEXT convert the spatial MOs to spin MOs "
   ]
  },
  {
   "cell_type": "markdown",
   "metadata": {},
   "source": [
    "Previously we have spatial MO orbitals in our calculation:\n",
    "\n",
    "$$| \\Psi^{HF}> = | \\psi_{1} \\bar{\\psi_{1}}, \\: \\: \\psi_{2} \\bar{\\psi_{2}}, \\: \\: ... \\: \\:, \\psi_{N/2} \\bar{\\psi_{N/2}}>$$\n",
    "\n",
    "we can multiply our spatial orbitals by spin function (Szabo pg 47):\n",
    "\n",
    "$$  \\left.\\begin{aligned}\n",
    "  \\chi_{2i}(\\vec{x})&= \\psi_{i}^{\\alpha}(\\vec{r}) \\alpha(\\omega)\\\\\n",
    "  \\chi_{2i-1}(\\vec{x})&= \\psi_{i}^{\\beta}(\\vec{r}) \\beta(\\omega)\n",
    "\\end{aligned}\\right\\} i = 1,2,..., k$$\n",
    "\n",
    "\n",
    "Therefore our wavefunction in spin orbitals becomes (Szabo pg 83):\n",
    "\n",
    "$$| \\Psi^{HF}> = | \\chi_{1} \\: \\: \\chi_{2}  \\: \\: ... \\: \\:  \\chi_{N-1} \\: \\: \\chi_{N} >$$"
   ]
  },
  {
   "cell_type": "code",
   "execution_count": null,
   "metadata": {},
   "outputs": [],
   "source": [
    "n_qubits = 2*hcore_ij.shape[0]\n",
    "\n",
    "one_body_terms = np.zeros((n_qubits, n_qubits))\n",
    "two_body_terms = np.zeros((n_qubits, n_qubits, n_qubits, n_qubits))\n",
    "\n",
    "for p in range(n_qubits//2):\n",
    "    for q in range(n_qubits//2):\n",
    "        \n",
    "        # populate 1-body terms (must have same spin, otherwise orthogonal)\n",
    "        ## pg 82 Szabo\n",
    "        one_body_terms[2*p, 2*q] = hcore_ij[p,q] # spin UP\n",
    "        one_body_terms[(2*p + 1), (2*q +1)] = hcore_ij[p,q] # spin DOWN\n",
    "        \n",
    "        # continue 2-body terms\n",
    "        for r in range(n_qubits//2):\n",
    "            for s in range(n_qubits//2):\n",
    "                                \n",
    "                ### SAME spin                \n",
    "                two_body_terms[2*p, 2*q , 2*r, 2*s] = ERI_mo_basis[p,q,r,s] # up up up up\n",
    "                two_body_terms[(2*p+1), (2*q +1) , (2*r + 1), (2*s +1)] = ERI_mo_basis[p,q,r,s] # down down down down\n",
    "                \n",
    "                ### mixed spin                \n",
    "                two_body_terms[2*p, 2*q , (2*r + 1), (2*s +1)] = ERI_mo_basis[p,q,r,s] # up up down down\n",
    "                two_body_terms[(2*p+1), (2*q +1) , 2*r, 2*s] = ERI_mo_basis[p,q,r,s] # down down up up \n",
    "               \n",
    "                # other mixed terms go to zero!\n",
    "                # see Szabo eq 2.165 pg 82\n",
    "                \n",
    "                \n",
    "                \n",
    "### remove vanishing terms\n",
    "EQ_Tolerance=1e-8\n",
    "one_body_terms[np.abs(one_body_terms)<EQ_Tolerance]=0\n",
    "two_body_terms[np.abs(two_body_terms)<EQ_Tolerance]=0"
   ]
  },
  {
   "cell_type": "markdown",
   "metadata": {},
   "source": [
    "Szabo pg 83 eq 2.169 (energy in SPIN MOs):\n",
    "\n",
    "$$E_{0}^{\\text{HF}} = \\sum_{a}^{N} (\\chi_{a} |h^{\\text{one body}} | \\chi_{a}) + \\frac{1}{2} \\sum_{a}^{N} \\sum_{b}^{N} \\Big( (\\chi_{a} \\chi_{a}|\\chi_{b} \\chi_{b}) - (\\chi_{a} \\chi_{b}|\\chi_{b} \\chi_{a})\\Big)$$"
   ]
  },
  {
   "cell_type": "code",
   "execution_count": null,
   "metadata": {},
   "outputs": [],
   "source": [
    "np.around(one_body_terms, 4) # spins seperate (up, down, up, down, up, down)"
   ]
  },
  {
   "cell_type": "code",
   "execution_count": null,
   "metadata": {},
   "outputs": [],
   "source": []
  },
  {
   "cell_type": "code",
   "execution_count": null,
   "metadata": {},
   "outputs": [],
   "source": [
    "N = full_system_mol.nelectron\n",
    "\n",
    "E_spin_MOs = np.einsum('ii->', one_body_terms[:N, :N], optimize=True)\n",
    "\n",
    "J = np.einsum('iijj->', two_body_terms[:N, :N, :N, :N], optimize=True)\n",
    "K = np.einsum('ijji->', two_body_terms[:N, :N, :N, :N], optimize=True)\n",
    "E_spin_MOs+= 0.5*(J-K)\n",
    "\n",
    "E_spin_MOs+= full_system_mol.energy_nuc()\n",
    "\n",
    "E_spin_MOs"
   ]
  },
  {
   "cell_type": "code",
   "execution_count": null,
   "metadata": {},
   "outputs": [],
   "source": [
    "np.abs(E_HF_Pyscf - E_spin_MOs)"
   ]
  },
  {
   "cell_type": "code",
   "execution_count": null,
   "metadata": {},
   "outputs": [],
   "source": []
  },
  {
   "cell_type": "markdown",
   "metadata": {},
   "source": [
    "Note in above we are taking sums with a limit of $N$, this is like considering:\n",
    "\n",
    "$$| \\Psi^{HF}> = | \\chi_{1} \\: \\: \\chi_{2}  \\: \\: ... \\: \\:  \\chi_{N-1} \\: \\: \\chi_{N} > = | 1^{(1)} 1^{(2)} ... 1^{(N)} 0^{(N+1)} 0^{(N+2)} ... 0^{(2K)}> $$\n",
    "\n",
    "(only first N sites filled = HF ground state)\n",
    "\n",
    "We can take sums over different multi-configurational ground states to give electron correlation energies! (Just change indices of summations). Note normalizations will be important!"
   ]
  },
  {
   "cell_type": "code",
   "execution_count": null,
   "metadata": {},
   "outputs": [],
   "source": []
  },
  {
   "cell_type": "markdown",
   "metadata": {},
   "source": [
    "# Qubit Hamiltonian"
   ]
  },
  {
   "cell_type": "markdown",
   "metadata": {},
   "source": [
    "(Szabo pg 95... important to note physists and chemist notation differences!)\n",
    "\n",
    "$$H_{q} = \\text{constant}_{\\text{nuclear}} + \\sum_{p} \\sum_{q} h_{pq}^{\\text{one body}} a^{\\dagger}_{p}a_{q} + \\frac{1}{2} \\sum_{p} \\sum_{q} \\sum_{r} \\sum_{s} g_{pqrs}^{\\text{two body}}  a^{\\dagger}_{p} a^{\\dagger}_{q} a_{r} a_{s} $$\n",
    "\n",
    "\n",
    "- $p,q,r,s$ loops over the sets of spin orbitals: $ \\{ \\chi_{i} \\}_{i=1,2,...,2K}$"
   ]
  },
  {
   "cell_type": "code",
   "execution_count": null,
   "metadata": {},
   "outputs": [],
   "source": [
    "from openfermion.ops import FermionOperator"
   ]
  },
  {
   "cell_type": "code",
   "execution_count": null,
   "metadata": {},
   "outputs": [],
   "source": [
    "# two_body_terms = two_body_terms.transpose(0,2,3,1) # turn into physist notation"
   ]
  },
  {
   "cell_type": "code",
   "execution_count": null,
   "metadata": {},
   "outputs": [],
   "source": [
    "H_fermionic = FermionOperator((),  full_system_mol.energy_nuc())\n",
    "\n",
    "# one body terms\n",
    "for p in range(one_body_terms.shape[0]):\n",
    "    for q in range(one_body_terms.shape[0]):\n",
    "        \n",
    "        H_fermionic += one_body_terms[p,q] * FermionOperator(((p, 1), (q, 0)))\n",
    "        \n",
    "        # two body terms\n",
    "        for r in range(two_body_terms.shape[0]):\n",
    "            for s in range(two_body_terms.shape[0]):\n",
    "                \n",
    "                ######## physist notation\n",
    "                ## (requires:\n",
    "                ##           two_body_terms = two_body_terms.transpose(0,2,3,1) before loop starts!\n",
    "                ##)\n",
    "#                 H_qubit += 0.5*two_body_terms[p,q,r,s] * FermionOperator(((p, 1), (q, 1), (r,0), (s, 0)))\n",
    "                \n",
    "                ######## chemist notation\n",
    "                H_fermionic += 0.5*two_body_terms[p,q,r,s] * FermionOperator(((p, 1), (r, 1), (s,0), (q, 0)))\n",
    "H_fermionic"
   ]
  },
  {
   "cell_type": "code",
   "execution_count": null,
   "metadata": {},
   "outputs": [],
   "source": [
    "from openfermion.transforms import jordan_wigner\n",
    "\n",
    "H_qubit_JW = jordan_wigner(H_fermionic)\n",
    "H_qubit_JW"
   ]
  },
  {
   "cell_type": "code",
   "execution_count": null,
   "metadata": {},
   "outputs": [],
   "source": []
  },
  {
   "cell_type": "code",
   "execution_count": null,
   "metadata": {},
   "outputs": [],
   "source": [
    "# too expensive for desktop if molecule is H2O!\n",
    "from openfermion.linalg import get_sparse_operator\n",
    "\n",
    "if geometry != \"\"\"\n",
    "O\n",
    "H 1 1.1\n",
    "H 1 1.1 2 104\n",
    "\"\"\":\n",
    "    H_JW_mat = get_sparse_operator(H_qubit_JW)\n",
    "    eigvals, eigvecs = np.linalg.eigh(H_JW_mat.todense())\n",
    "    \n",
    "    idx = eigvals.argsort()   \n",
    "    eigvals = eigvals[idx]\n",
    "    eigvecs = eigvecs[:,idx]\n",
    "    \n",
    "    print(min(eigvals))"
   ]
  },
  {
   "cell_type": "code",
   "execution_count": null,
   "metadata": {},
   "outputs": [],
   "source": []
  },
  {
   "cell_type": "code",
   "execution_count": null,
   "metadata": {},
   "outputs": [],
   "source": []
  },
  {
   "cell_type": "markdown",
   "metadata": {},
   "source": [
    "# Check Hartree Fock ground state"
   ]
  },
  {
   "cell_type": "code",
   "execution_count": null,
   "metadata": {},
   "outputs": [],
   "source": [
    "from functools import reduce"
   ]
  },
  {
   "cell_type": "code",
   "execution_count": null,
   "metadata": {},
   "outputs": [],
   "source": [
    "zero_state = np.array([[1],[0]])\n",
    "one_state = np.array([[0],[1]])\n",
    "\n",
    "HF_state = reduce(np.kron, [one_state, one_state, zero_state, zero_state]) # | 1 1 0 0 >\n",
    "HF_state"
   ]
  },
  {
   "cell_type": "code",
   "execution_count": null,
   "metadata": {},
   "outputs": [],
   "source": [
    "np.array_equal(np.eye(2**4)[int('1100',2), :].reshape(2**4,1), HF_state)"
   ]
  },
  {
   "cell_type": "code",
   "execution_count": null,
   "metadata": {},
   "outputs": [],
   "source": [
    "HF_state.conj().T @ H_JW_mat.todense() @ HF_state"
   ]
  },
  {
   "cell_type": "code",
   "execution_count": null,
   "metadata": {},
   "outputs": [],
   "source": []
  },
  {
   "cell_type": "code",
   "execution_count": null,
   "metadata": {},
   "outputs": [],
   "source": [
    "FCI_ground_state = eigvecs[:,0]\n",
    "\n",
    "row_inds, _ = np.where(FCI_ground_state!=0)"
   ]
  },
  {
   "cell_type": "code",
   "execution_count": null,
   "metadata": {},
   "outputs": [],
   "source": [
    "for state_ind in row_inds:\n",
    "    print(f' {eigvecs[state_ind, 0]} * |{np.binary_repr(state_ind,width=n_qubits)}>')"
   ]
  },
  {
   "cell_type": "code",
   "execution_count": null,
   "metadata": {},
   "outputs": [],
   "source": [
    "zero_state = np.array([[1],[0]])\n",
    "one_state = np.array([[0],[1]])\n",
    "\n",
    "FCI_state = (0.11254388689315997*reduce(np.kron, [zero_state, zero_state, one_state, one_state]) + # | 0 0 1 1 >\n",
    "             -0.9936467548998383*reduce(np.kron, [one_state, one_state, zero_state, zero_state])   # | 1 1 0 0 >\n",
    "            )\n",
    "\n",
    "FCI_state.conj().T @ H_JW_mat.todense() @ FCI_state"
   ]
  },
  {
   "cell_type": "code",
   "execution_count": null,
   "metadata": {},
   "outputs": [],
   "source": []
  },
  {
   "cell_type": "markdown",
   "metadata": {},
   "source": [
    "# PySCF FCI calc"
   ]
  },
  {
   "cell_type": "code",
   "execution_count": null,
   "metadata": {},
   "outputs": [],
   "source": [
    "from pyscf import fci\n",
    "\n",
    "HF_scf = scf.RHF(full_system_mol)\n",
    "HF_scf.verbose=1\n",
    "HF_scf.max_memory= 8_000\n",
    "HF_scf.conv_tol = 1e-6\n",
    "HF_scf.kernel()\n",
    "\n",
    "my_fci = fci.FCI(HF_scf).run()\n",
    "print('E(UHF-FCI) = %.12f' % my_fci.e_tot)"
   ]
  },
  {
   "cell_type": "code",
   "execution_count": null,
   "metadata": {},
   "outputs": [],
   "source": []
  },
  {
   "cell_type": "code",
   "execution_count": null,
   "metadata": {},
   "outputs": [],
   "source": [
    "np.abs(FCI_state.conj().T @ H_JW_mat.todense() @ FCI_state - my_fci.e_tot)"
   ]
  },
  {
   "cell_type": "code",
   "execution_count": null,
   "metadata": {},
   "outputs": [],
   "source": []
  },
  {
   "cell_type": "code",
   "execution_count": null,
   "metadata": {},
   "outputs": [],
   "source": [
    "my_fci.norb\n",
    "\n"
   ]
  },
  {
   "cell_type": "code",
   "execution_count": null,
   "metadata": {},
   "outputs": [],
   "source": [
    "# dm1 = my_fci.make_rdm1(my_fci.ci, my_fci.norb, my_fci.nelec)"
   ]
  },
  {
   "cell_type": "code",
   "execution_count": null,
   "metadata": {},
   "outputs": [],
   "source": [
    "one_body_terms"
   ]
  },
  {
   "cell_type": "code",
   "execution_count": null,
   "metadata": {},
   "outputs": [],
   "source": [
    "# dm2 = my_fci.make_rdm2(my_fci.ci, my_fci.c, my_fci.nelec)"
   ]
  },
  {
   "cell_type": "code",
   "execution_count": null,
   "metadata": {},
   "outputs": [],
   "source": [
    "# help(my_fci.make_rdm2)"
   ]
  },
  {
   "cell_type": "code",
   "execution_count": null,
   "metadata": {},
   "outputs": [],
   "source": []
  },
  {
   "cell_type": "markdown",
   "metadata": {},
   "source": [
    "## PySCF CC"
   ]
  },
  {
   "cell_type": "markdown",
   "metadata": {},
   "source": [
    "https://psicode.org/psi4manual/master/cc.html"
   ]
  },
  {
   "cell_type": "code",
   "execution_count": null,
   "metadata": {},
   "outputs": [],
   "source": [
    "from pyscf import cc"
   ]
  },
  {
   "cell_type": "code",
   "execution_count": null,
   "metadata": {},
   "outputs": [],
   "source": [
    "embedded_cc_obj = cc.UCCSD(HF_scf) # note UCCSD is unrestriced and CCSD is RESTRICTED!\n",
    "\n",
    "e_cc, t1, t2 = embedded_cc_obj.kernel()\n"
   ]
  },
  {
   "cell_type": "code",
   "execution_count": null,
   "metadata": {},
   "outputs": [],
   "source": []
  },
  {
   "cell_type": "code",
   "execution_count": null,
   "metadata": {},
   "outputs": [],
   "source": [
    "HF_state = reduce(np.kron, [one_state, one_state, zero_state, zero_state]) # | 1 1 0 0 >\n",
    "HF_state"
   ]
  },
  {
   "cell_type": "markdown",
   "metadata": {},
   "source": [
    "$$T_{1} = \\sum_{i}^{occ} \\sum_{a}^{virt} t_{i}^{a}|\\Psi_{i}^{a} >$$\n",
    "\n",
    "$$T_{2} = \\sum_{i}^{occ} \\sum_{j>i}^{occ} \\sum_{a}^{virt} \\sum_{b>a}^{virt} t_{ii}^{ab}|\\Psi_{ii}^{ab} >$$"
   ]
  },
  {
   "cell_type": "code",
   "execution_count": null,
   "metadata": {},
   "outputs": [],
   "source": [
    "from copy import deepcopy"
   ]
  },
  {
   "cell_type": "code",
   "execution_count": null,
   "metadata": {},
   "outputs": [],
   "source": [
    "t1[0]"
   ]
  },
  {
   "cell_type": "code",
   "execution_count": null,
   "metadata": {},
   "outputs": [],
   "source": [
    "embedded_cc_obj.nmo"
   ]
  },
  {
   "cell_type": "code",
   "execution_count": null,
   "metadata": {},
   "outputs": [],
   "source": [
    "int('0011',2)"
   ]
  },
  {
   "cell_type": "code",
   "execution_count": null,
   "metadata": {},
   "outputs": [],
   "source": [
    "t_13 = t1[0,0]\n",
    "print(f' {t_13} * |{np.binary_repr(6,width=n_qubits)}>')"
   ]
  },
  {
   "cell_type": "code",
   "execution_count": null,
   "metadata": {},
   "outputs": [],
   "source": [
    "t_01_23 = t2[0,0,0,0]\n",
    "print(f' {t_01_23} * |{np.binary_repr(3,width=n_qubits)}>')"
   ]
  },
  {
   "cell_type": "code",
   "execution_count": null,
   "metadata": {},
   "outputs": [],
   "source": [
    "HF_string = np.binary_repr(12,width=n_qubits)\n",
    "HF_amplitude = np.sqrt(1 - (t1[0,0]**2 + t2[0,0,0,0]**2))\n",
    "HF_amplitude"
   ]
  },
  {
   "cell_type": "code",
   "execution_count": null,
   "metadata": {},
   "outputs": [],
   "source": [
    "print('CCSD ground state')\n",
    "print(f' {HF_amplitude} * |{HF_string}> + {t_13} * |{np.binary_repr(6,width=n_qubits)}> + {t_01_23} * |{np.binary_repr(3,width=n_qubits)}> ')"
   ]
  },
  {
   "cell_type": "code",
   "execution_count": null,
   "metadata": {},
   "outputs": [],
   "source": [
    "t1a"
   ]
  },
  {
   "cell_type": "code",
   "execution_count": null,
   "metadata": {},
   "outputs": [],
   "source": [
    "sum(embedded_cc_obj.nocc)"
   ]
  },
  {
   "cell_type": "code",
   "execution_count": null,
   "metadata": {},
   "outputs": [],
   "source": [
    "embedded_cc_obj.nocc"
   ]
  },
  {
   "cell_type": "code",
   "execution_count": null,
   "metadata": {},
   "outputs": [],
   "source": [
    "sum(embedded_cc_obj.nocc)"
   ]
  },
  {
   "cell_type": "code",
   "execution_count": null,
   "metadata": {},
   "outputs": [],
   "source": [
    "t2aa.shape"
   ]
  },
  {
   "cell_type": "code",
   "execution_count": null,
   "metadata": {},
   "outputs": [],
   "source": []
  },
  {
   "cell_type": "code",
   "execution_count": null,
   "metadata": {},
   "outputs": [],
   "source": [
    "ia_OCC_spin_up_inds = np.arange(0, 2*embedded_cc_obj.nocc[0], 2)\n",
    "ia_VIR_spin_up_vir_inds = np.arange(2*embedded_cc_obj.nocc[0],2*(sum(embedded_cc_obj.nmo) - sum(embedded_cc_obj.nocc)) , 2)\n",
    "\n",
    "ib_OCC_spin_down_inds = np.arange(1, 2*embedded_cc_obj.nocc[1], 2)\n",
    "ib_VIR_spin_down_inds = np.arange(2*embedded_cc_obj.nocc[1]+1, 2*(sum(embedded_cc_obj.nmo) - sum(embedded_cc_obj.nocc)), 2)"
   ]
  },
  {
   "cell_type": "code",
   "execution_count": null,
   "metadata": {},
   "outputs": [],
   "source": [
    "ia_VIR_spin_up_vir_inds"
   ]
  },
  {
   "cell_type": "code",
   "execution_count": null,
   "metadata": {},
   "outputs": [],
   "source": [
    "# HF_string = np.binary_repr(12,width=n_qubits)\n",
    "\n",
    "### different spins!\n",
    "t1a, t1b = t1\n",
    "t2aa, t2ab, t2bb = t2\n",
    "\n",
    "## single spin up\n",
    "\n",
    "\n",
    "## single spin up\n",
    "for i, t_ia in enumerate(t1a):\n",
    "    i_ind = ia_OCC_spin_up_inds[i]\n",
    "    a_ind = ia_VIR_spin_up_vir_inds[i]\n",
    "    \n",
    "    state_string = list(HF_string)\n",
    "    state_string[i_ind]='0'\n",
    "    state_string[a_ind]='1'\n",
    "    state_string = ''.join(state_string)\n",
    "    print(f' {t_ia} * |{state_string}>')\n",
    "\n",
    "        \n",
    "## single spin down\n",
    "for i, t_ib in enumerate(t1b):\n",
    "    i_ind = i_spin_down_occ_inds[i]\n",
    "    b_ind = i_spin_up_vir_inds[i]\n",
    "    \n",
    "    state_string = list(HF_string)\n",
    "    state_string[i_ind]='0'\n",
    "    state_string[b_ind]='1'\n",
    "    state_string = ''.join(state_string)\n",
    "    print(f' {t_ib} * |{state_string}>')\n",
    "\n",
    "    \n",
    "# spin up spin down\n",
    "for i, t_ijab in enumerate(t2ab):\n",
    "    \n",
    "    i_ind = ia_OCC_spin_up_inds[i]\n",
    "    j_ind = ib_OCC_spin_down_inds[i]\n",
    "    \n",
    "    a_ind = ia_VIR_spin_up_vir_inds[i]\n",
    "    b_ind = ib_VIR_spin_down_inds[i]\n",
    "    \n",
    "    state_string = list(HF_string)\n",
    "    state_string[i_ind]='0'\n",
    "    state_string[j_ind]='0'\n",
    "\n",
    "    state_string[a_ind]='1'\n",
    "    state_string[b_ind]='1'\n",
    "    state_string = ''.join(state_string)\n",
    "    print(f' {t_ijab} * |{state_string}>')\n",
    "        \n",
    "\n",
    "\n",
    "# # spin up spin up\n",
    "# for i, t_ijaa in enumerate(t2aa):\n",
    "#     if not bool(i%2):\n",
    "#         continue\n",
    "#     for j in range(i, len(t2aa)):\n",
    "#         for a in range(2*embedded_cc_obj.nocc[0], (2*embedded_cc_obj.nmo[0]-embedded_cc_obj.nocc[0])):\n",
    "#             if not bool(a%2):\n",
    "#                 continue\n",
    "#             for b in range(a, (2*embedded_cc_obj.nmo[0]-embedded_cc_obj.nocc[0])):\n",
    "                \n",
    "#                 state_string = list(HF_string)\n",
    "#                 state_string[i]='0'\n",
    "#                 state_string[j]='0'\n",
    "                \n",
    "#                 state_string[a]='1'\n",
    "#                 state_string[b]='1'\n",
    "#                 state_string = ''.join(state_string)\n",
    "#                 print(f' {t_ijaa} * |{state_string}>')\n",
    "                \n",
    "                \n",
    "# # spin down spin down\n",
    "# for i, t_ijab in enumerate(t2bb):\n",
    "#     if bool((i+1)%2):\n",
    "#         continue\n",
    "#     for j in range(i, len(t2bb)):\n",
    "#         for a in range(2*embedded_cc_obj.nocc[1], (2*embedded_cc_obj.nmo[1]-embedded_cc_obj.nocc[1])):\n",
    "#             if bool((a+1)%2):\n",
    "#                 continue\n",
    "#             for b in range(a, (2*embedded_cc_obj.nmo[1]-embedded_cc_obj.nocc[1])):\n",
    "                \n",
    "#                 state_string = list(HF_string)\n",
    "#                 state_string[i+1]='0'\n",
    "#                 state_string[j+1]='0'\n",
    "                \n",
    "#                 state_string[a+1]='1'\n",
    "#                 state_string[b+1]='1'\n",
    "#                 state_string = ''.join(state_string)\n",
    "#                 print(f' {t_ijaa} * |{state_string}>')\n",
    "                \n",
    "# # spin up spin down\n",
    "# for i, t_ijab in enumerate(t2ab):\n",
    "#     if not bool(i%2):\n",
    "#         continue\n",
    "#     for j in range(i, len(t2bb)):\n",
    "#         if not bool((j+1)%2):\n",
    "#             continue\n",
    "#         for a in range(2*embedded_cc_obj.nocc[1], (2*embedded_cc_obj.nmo[1]-embedded_cc_obj.nocc[1])):\n",
    "#             if not bool(a%2):\n",
    "#                 continue\n",
    "#             for b in range(a, (2*embedded_cc_obj.nmo[1]-embedded_cc_obj.nocc[1])):\n",
    "#                 if bool((b+1)%2):\n",
    "#                     continue\n",
    "#                 state_string = list(HF_string)\n",
    "#                 state_string[i]='0'\n",
    "#                 state_string[j]='0'\n",
    "                \n",
    "#                 state_string[a]='1'\n",
    "#                 state_string[b]='1'\n",
    "#                 state_string = ''.join(state_string)\n",
    "#                 print(f' {t_ijaa} * |{state_string}>')"
   ]
  },
  {
   "cell_type": "code",
   "execution_count": null,
   "metadata": {},
   "outputs": [],
   "source": [
    "bool(4%3)"
   ]
  },
  {
   "cell_type": "code",
   "execution_count": null,
   "metadata": {},
   "outputs": [],
   "source": [
    "t2[2][0][0][0]"
   ]
  },
  {
   "cell_type": "code",
   "execution_count": null,
   "metadata": {},
   "outputs": [],
   "source": [
    "t1"
   ]
  }
 ],
 "metadata": {
  "kernelspec": {
   "display_name": "Python 3 (ipykernel)",
   "language": "python",
   "name": "python3"
  },
  "language_info": {
   "codemirror_mode": {
    "name": "ipython",
    "version": 3
   },
   "file_extension": ".py",
   "mimetype": "text/x-python",
   "name": "python",
   "nbconvert_exporter": "python",
   "pygments_lexer": "ipython3",
   "version": "3.9.12"
  }
 },
 "nbformat": 4,
 "nbformat_minor": 4
}
